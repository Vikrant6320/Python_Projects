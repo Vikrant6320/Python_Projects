{
 "cells": [
  {
   "cell_type": "markdown",
   "id": "da127319",
   "metadata": {},
   "source": [
    "# Assignment 1\n",
    "\n",
    "## Set 1\n"
   ]
  },
  {
   "cell_type": "markdown",
   "id": "b26b703a",
   "metadata": {},
   "source": [
    "### 1.Write a python program to check whether the string is Symmetrical or Palindrome"
   ]
  },
  {
   "cell_type": "code",
   "execution_count": 7,
   "id": "3d0ebf39",
   "metadata": {},
   "outputs": [
    {
     "name": "stdout",
     "output_type": "stream",
     "text": [
      "Enter the String -->n a m a n\n",
      "The entered string is symmetrical\n",
      "The entered string is not palindrome\n"
     ]
    }
   ],
   "source": [
    "import re\n",
    " \n",
    "string = input(\"Enter the String -->\")\n",
    "reverse_string = string[::-1]\n",
    " \n",
    "if string == reverse_string:\n",
    "    print(\"The entered string is symmetrical\")\n",
    "else:\n",
    "    print(\"The entered string is not symmetrical\")\n",
    " \n",
    "if re.match(\"^(\\w+)\\Z\", string) and string == string[::-1]:\n",
    "    print(\"The entered string is palindrome\")\n",
    "else:\n",
    "    print(\"The entered string is not palindrome\")"
   ]
  },
  {
   "cell_type": "markdown",
   "id": "ce4cc1ec",
   "metadata": {},
   "source": [
    "### 2.Write a Python program to reverse the words in a given string"
   ]
  },
  {
   "cell_type": "code",
   "execution_count": 14,
   "id": "440927e1",
   "metadata": {},
   "outputs": [
    {
     "name": "stdout",
     "output_type": "stream",
     "text": [
      "Enter the String -->I am a good boy\n",
      "Reverse String --> boy good a am I\n"
     ]
    }
   ],
   "source": [
    "string=input(\"Enter the String -->\")\n",
    "words=string.split()\n",
    "\n",
    "reverse_string=words[::-1]\n",
    "reversed_string=' '.join(reverse_string)\n",
    "\n",
    "\n",
    "print(\"Reverse String -->\",reversed_string)\n"
   ]
  },
  {
   "cell_type": "markdown",
   "id": "ea204425",
   "metadata": {},
   "source": [
    "### 3.Write a Python program to remove the i’th character from the string in different ways "
   ]
  },
  {
   "cell_type": "code",
   "execution_count": 15,
   "id": "065e2344",
   "metadata": {},
   "outputs": [
    {
     "name": "stdout",
     "output_type": "stream",
     "text": [
      "Enter the String -->I am a very intelligent boy since 2001\n",
      "I am a very boy since 2001\n"
     ]
    }
   ],
   "source": [
    "string=input(\"Enter the String -->\")\n",
    "words=string.split()\n",
    "\n",
    "if len(words)<5:\n",
    "    print(\"No 5th word is here\")\n",
    "else:\n",
    "    del(words[4])\n",
    "    \n",
    "joins=' '.join(words)\n",
    "print(joins)"
   ]
  },
  {
   "cell_type": "markdown",
   "id": "724bcfdf",
   "metadata": {},
   "source": [
    "## Functions ->"
   ]
  },
  {
   "cell_type": "markdown",
   "id": "eedde77d",
   "metadata": {},
   "source": [
    "### 1.Write a python function to find the Max of three numbers "
   ]
  },
  {
   "cell_type": "code",
   "execution_count": 17,
   "id": "4e335ebf",
   "metadata": {},
   "outputs": [
    {
     "name": "stdout",
     "output_type": "stream",
     "text": [
      "Maximum Number in Xlist --> 7845\n"
     ]
    }
   ],
   "source": [
    "xlist=[4513,7845,5478]\n",
    "\n",
    "a=max(xlist)\n",
    "\n",
    "print(\"Maximum Number in Xlist -->\",a)"
   ]
  },
  {
   "cell_type": "markdown",
   "id": "8fb15bbd",
   "metadata": {},
   "source": [
    "### 2.Write a python function to Sum all the numbers in a list"
   ]
  },
  {
   "cell_type": "code",
   "execution_count": 18,
   "id": "2d403cd7",
   "metadata": {},
   "outputs": [
    {
     "name": "stdout",
     "output_type": "stream",
     "text": [
      "Total Sum of Xlist values --> 3670\n"
     ]
    }
   ],
   "source": [
    "xlist=[45,877,258,357,159,452,658,864]\n",
    "\n",
    "b=sum(xlist)\n",
    "\n",
    "print(\"Total Sum of Xlist values -->\",b)"
   ]
  },
  {
   "cell_type": "markdown",
   "id": "5a556787",
   "metadata": {},
   "source": [
    "### 3.Write a Python function to reverse the string"
   ]
  },
  {
   "cell_type": "code",
   "execution_count": 21,
   "id": "9c50390f",
   "metadata": {},
   "outputs": [
    {
     "name": "stdout",
     "output_type": "stream",
     "text": [
      "Enter the String --> I am a good boy\n",
      "Reverse String --> yob doog a ma I\n"
     ]
    }
   ],
   "source": [
    "string=input(\"Enter the String --> \")\n",
    "\n",
    "reverse=string[::-1]\n",
    "\n",
    "print(\"Reverse String -->\",reverse)"
   ]
  },
  {
   "cell_type": "markdown",
   "id": "deef6dba",
   "metadata": {},
   "source": [
    "## Set 2"
   ]
  },
  {
   "cell_type": "markdown",
   "id": "cf012e2e",
   "metadata": {},
   "source": [
    "### 1.Write a python program to print even length words in a string"
   ]
  },
  {
   "cell_type": "code",
   "execution_count": 23,
   "id": "ff059809",
   "metadata": {},
   "outputs": [
    {
     "name": "stdout",
     "output_type": "stream",
     "text": [
      "Enter the String --> I am a good boy\n",
      "Even Words --> am good\n"
     ]
    }
   ],
   "source": [
    "string=input(\"Enter the String --> \")\n",
    "words=string.split()\n",
    "\n",
    "print(\"Even Words -->\",\" \".join(x for x in words if len(x)%2==0))"
   ]
  },
  {
   "cell_type": "markdown",
   "id": "ab7bc99e",
   "metadata": {},
   "source": [
    "### 2.Write a python program to accept the strings which contains all vowels "
   ]
  },
  {
   "cell_type": "code",
   "execution_count": 30,
   "id": "64e46bb3",
   "metadata": {},
   "outputs": [
    {
     "name": "stdout",
     "output_type": "stream",
     "text": [
      "Enter the String --> education\n",
      "String contains all vowels\n"
     ]
    }
   ],
   "source": [
    "vowels={'a','e','i','o','u'}\n",
    "\n",
    "\n",
    "while True:\n",
    "    string=input(\"Enter the String --> \").lower()\n",
    "    \n",
    "    if all(vowel in string for vowel in vowels):\n",
    "        print(\"String contains all vowels\")\n",
    "        break\n",
    "    else:\n",
    "        print(\"Wrong Input\")\n",
    "        break\n",
    "        \n",
    "\n",
    "\n"
   ]
  },
  {
   "cell_type": "markdown",
   "id": "229be0ce",
   "metadata": {},
   "source": [
    "### 3.Write a python program to Count the number of matching characters in a pair of String"
   ]
  },
  {
   "cell_type": "code",
   "execution_count": 32,
   "id": "c2d50615",
   "metadata": {},
   "outputs": [
    {
     "name": "stdout",
     "output_type": "stream",
     "text": [
      "Enter the string 1 --> vikrant\n",
      "Enter the string 2 --> vijay\n",
      "Number of matching characters: 3\n"
     ]
    }
   ],
   "source": [
    "str1 = input(\"Enter the string 1 --> \")\n",
    "str2 = input(\"Enter the string 2 --> \")\n",
    "\n",
    "set1 = set(str1)\n",
    "set2 = set(str2)\n",
    "common_character = set1 & set2\n",
    "\n",
    "matching_count = len(common_character)\n",
    "\n",
    "print(f\"Number of matching characters: {matching_count}\")\n"
   ]
  },
  {
   "cell_type": "markdown",
   "id": "86626f54",
   "metadata": {},
   "source": [
    "## Functions ->"
   ]
  },
  {
   "cell_type": "markdown",
   "id": "510eb40c",
   "metadata": {},
   "source": [
    "### 1.Write a Python function that takes a list and returns  a new list with unique elements of the first list."
   ]
  },
  {
   "cell_type": "code",
   "execution_count": 4,
   "id": "26705795",
   "metadata": {},
   "outputs": [
    {
     "name": "stdout",
     "output_type": "stream",
     "text": [
      "The Unique list of xlist --> [34, 12, 45, 54, 23, 56]\n"
     ]
    }
   ],
   "source": [
    "def unique(xlist):\n",
    "    unique_elements = list(set(xlist))\n",
    "    return unique_elements\n",
    "xlist = [12,23,34,45,56,54,45,34,23]\n",
    "result = unique(xlist)\n",
    "print(\"The Unique list of xlist -->\",result) \n"
   ]
  },
  {
   "cell_type": "markdown",
   "id": "45bc6db0",
   "metadata": {},
   "source": [
    "### 2.Write a python function that takes a number as a parameter and check the number is prime or not."
   ]
  },
  {
   "cell_type": "code",
   "execution_count": 6,
   "id": "605be8ab",
   "metadata": {},
   "outputs": [
    {
     "name": "stdout",
     "output_type": "stream",
     "text": [
      "Enter the Number -->3\n",
      "3 is a prime number.\n"
     ]
    }
   ],
   "source": [
    "def prime(num):\n",
    "    if num <= 1:\n",
    "        return False\n",
    "\n",
    "    for i in range(2, int(num ** 0.5) + 1):\n",
    "        if num % i == 0:\n",
    "            return False\n",
    "\n",
    "    return True\n",
    "number=int(input(\"Enter the Number -->\"))\n",
    "if prime(number):\n",
    "    print(number,\"is a prime number.\")\n",
    "    \n",
    "else:\n",
    "    print(number,\"is not a prime number.\")"
   ]
  },
  {
   "cell_type": "markdown",
   "id": "a4b5c3c5",
   "metadata": {},
   "source": [
    "### 3.Write a python function to check whether a number is perfect or not."
   ]
  },
  {
   "cell_type": "code",
   "execution_count": 9,
   "id": "7af29a60",
   "metadata": {},
   "outputs": [
    {
     "name": "stdout",
     "output_type": "stream",
     "text": [
      "Enter the Number -->34\n",
      "34  is not a perfect number.\n"
     ]
    }
   ],
   "source": [
    "def perfect(n):\n",
    "    if n <= 0:\n",
    "        return False\n",
    "\n",
    "    b = 0\n",
    "    for i in range(1, n):\n",
    "        if n % i == 0:\n",
    "            b=b+i\n",
    "\n",
    "    return b==n\n",
    "\n",
    "number=int(input(\"Enter the Number -->\"))\n",
    "if perfect(number):\n",
    "    print(number,\" is a perfect number.\")\n",
    "else:\n",
    "    print(number,\" is not a perfect number.\")\n"
   ]
  },
  {
   "cell_type": "markdown",
   "id": "45164a22",
   "metadata": {},
   "source": [
    "# Assignment 2"
   ]
  },
  {
   "cell_type": "markdown",
   "id": "9c8cbf7b",
   "metadata": {},
   "source": [
    "## Set A"
   ]
  },
  {
   "cell_type": "markdown",
   "id": "7e0455cd",
   "metadata": {},
   "source": [
    "### 1.Python Program to Calculate the Area of a Triangle "
   ]
  },
  {
   "cell_type": "code",
   "execution_count": 12,
   "id": "70faa83d",
   "metadata": {},
   "outputs": [
    {
     "name": "stdout",
     "output_type": "stream",
     "text": [
      "Enter the base of traingle --> 5\n",
      "Enter the height of triangle --> 12\n",
      "the area of the traingle is --> 30.0\n"
     ]
    }
   ],
   "source": [
    "base = int(input(\"Enter the base of traingle --> \"))\n",
    "height = int(input(\"Enter the height of triangle --> \"))\n",
    "\n",
    "area=1/2*base*height\n",
    "print(\"the area of the traingle is -->\",area)"
   ]
  },
  {
   "cell_type": "markdown",
   "id": "b6bfb719",
   "metadata": {},
   "source": [
    "### 2.Python Program to Swap Two Variables "
   ]
  },
  {
   "cell_type": "code",
   "execution_count": 14,
   "id": "1f6a1cf8",
   "metadata": {},
   "outputs": [
    {
     "name": "stdout",
     "output_type": "stream",
     "text": [
      "a\n",
      "b\n",
      "After Swaping\n",
      "b\n",
      "a\n"
     ]
    }
   ],
   "source": [
    "xlist=\"a\"\n",
    "ylist=\"b\"\n",
    "print(xlist)\n",
    "print(ylist)\n",
    "xlist,ylist=ylist,xlist\n",
    "print(\"After Swaping\")\n",
    "print(xlist)\n",
    "print(ylist)"
   ]
  },
  {
   "cell_type": "markdown",
   "id": "1ceed982",
   "metadata": {},
   "source": [
    "### 3.Python Program to Generate a Random Number"
   ]
  },
  {
   "cell_type": "code",
   "execution_count": 18,
   "id": "0261c4fd",
   "metadata": {},
   "outputs": [
    {
     "name": "stdout",
     "output_type": "stream",
     "text": [
      "10\n"
     ]
    }
   ],
   "source": [
    "import random\n",
    "\n",
    "a=random.randint(1,23)\n",
    "print(a)"
   ]
  },
  {
   "cell_type": "markdown",
   "id": "f2cf273b",
   "metadata": {},
   "source": [
    "## Set B"
   ]
  },
  {
   "cell_type": "markdown",
   "id": "4b2788ac",
   "metadata": {},
   "source": [
    "### 1.Write a Python Program to Check if a Number is Positive, Negative or Zero "
   ]
  },
  {
   "cell_type": "code",
   "execution_count": 21,
   "id": "41ca6e4a",
   "metadata": {},
   "outputs": [
    {
     "name": "stdout",
     "output_type": "stream",
     "text": [
      "Enter the Number -->0\n",
      "0 Its Zero\n"
     ]
    }
   ],
   "source": [
    "number=int(input(\"Enter the Number -->\"))\n",
    "if number>0:\n",
    "    print(number,\"is a positive number.\")\n",
    "elif number<0:\n",
    "    print(number,\"is a negative number.\")\n",
    "else:\n",
    "    print(number,\"Its Zero\")"
   ]
  },
  {
   "cell_type": "markdown",
   "id": "8c992d41",
   "metadata": {},
   "source": [
    "### 2.Write a Python Program to Check if a Number is Odd or Even "
   ]
  },
  {
   "cell_type": "code",
   "execution_count": 23,
   "id": "3193fbae",
   "metadata": {},
   "outputs": [
    {
     "name": "stdout",
     "output_type": "stream",
     "text": [
      "Enter the Number -->0\n",
      "0 is an even number.\n"
     ]
    }
   ],
   "source": [
    "number=int(input(\"Enter the Number -->\"))\n",
    "\n",
    "if number%2==0:\n",
    "    print(number,\"is an even number.\")\n",
    "elif number%2!=0:\n",
    "    print(number,\"is an odd number.\")"
   ]
  },
  {
   "cell_type": "markdown",
   "id": "d92bb6f4",
   "metadata": {},
   "source": [
    "### 3.Write a Python Program to Check Prime Number "
   ]
  },
  {
   "cell_type": "code",
   "execution_count": 28,
   "id": "57ae8d61",
   "metadata": {},
   "outputs": [
    {
     "name": "stdout",
     "output_type": "stream",
     "text": [
      "Enter the Number -->-2\n",
      "-2 is not a prime number\n"
     ]
    }
   ],
   "source": [
    "number=int(input(\"Enter the Number -->\"))\n",
    "\n",
    "\n",
    "if number > 1:\n",
    "    for i in range(2, int(number/2)+1):\n",
    "        if (number % i) == 0:\n",
    "            print(number, \"is not a prime number\")\n",
    "            break\n",
    "    else:\n",
    "        print(number, \"is a prime number\")\n",
    "else:\n",
    "    print(number, \"is not a prime number\")\n"
   ]
  },
  {
   "cell_type": "markdown",
   "id": "4bc30caa",
   "metadata": {},
   "source": [
    "### 4.Write a Python Program to Check Armstrong Number "
   ]
  },
  {
   "cell_type": "code",
   "execution_count": 34,
   "id": "161856c2",
   "metadata": {},
   "outputs": [
    {
     "name": "stdout",
     "output_type": "stream",
     "text": [
      "Enter the Number-->371\n",
      "371 is an Armstrong Number\n"
     ]
    }
   ],
   "source": [
    "num=int(input(\"Enter the Number-->\"))\n",
    "Sum=0\n",
    "\n",
    "n=len(str(num))\n",
    "temp=num\n",
    "\n",
    "while temp>0:\n",
    "    number=temp%10\n",
    "    Sum=Sum+number**n\n",
    "    temp//=10\n",
    "    \n",
    "if num==Sum:\n",
    "    print(num,\"is an Armstrong Number\")\n",
    "else:\n",
    "    print(num,\"is not an Armstrong Number\")"
   ]
  },
  {
   "cell_type": "markdown",
   "id": "00e55d46",
   "metadata": {},
   "source": [
    "### 5.Write a Python Program to Find the Factorial of a Number "
   ]
  },
  {
   "cell_type": "code",
   "execution_count": 35,
   "id": "027a3679",
   "metadata": {},
   "outputs": [
    {
     "name": "stdout",
     "output_type": "stream",
     "text": [
      "Enter the Number->5\n",
      "120\n"
     ]
    }
   ],
   "source": [
    "num=int(input(\"Enter the Number->\"))\n",
    "result=1\n",
    "\n",
    "for i in range(1,num+1):\n",
    "    result=result*i\n",
    "print(result)"
   ]
  },
  {
   "cell_type": "markdown",
   "id": "39a97349",
   "metadata": {},
   "source": [
    "## Programs For Practice"
   ]
  },
  {
   "cell_type": "markdown",
   "id": "07750578",
   "metadata": {},
   "source": [
    "### 1.Python Program to Convert Kilometers to Miles "
   ]
  },
  {
   "cell_type": "code",
   "execution_count": 2,
   "id": "c95a1062",
   "metadata": {},
   "outputs": [
    {
     "name": "stdout",
     "output_type": "stream",
     "text": [
      "Enter the kilometers -->10\n",
      "Miles --> 6.21371\n"
     ]
    }
   ],
   "source": [
    "kms=int(input(\"Enter the kilometers -->\"))\n",
    "\n",
    "miles=kms*0.621371\n",
    "\n",
    "print(\"Miles -->\",miles)"
   ]
  },
  {
   "cell_type": "markdown",
   "id": "f4257b8f",
   "metadata": {},
   "source": [
    "### 2.Python Program to Convert Celsius To Fahrenheit "
   ]
  },
  {
   "cell_type": "code",
   "execution_count": 3,
   "id": "cee16d44",
   "metadata": {},
   "outputs": [
    {
     "name": "stdout",
     "output_type": "stream",
     "text": [
      "Enter the celsius value -->37\n",
      "Fahrenheit --> 98.6\n"
     ]
    }
   ],
   "source": [
    "celsius=int(input(\"Enter the celsius value -->\"))\n",
    "\n",
    "fahrenheit=celsius*9/5+32\n",
    "\n",
    "print(\"Fahrenheit -->\",fahrenheit)"
   ]
  },
  {
   "cell_type": "markdown",
   "id": "32aadfb9",
   "metadata": {},
   "source": [
    "### 3.Write a Python Program to Check Leap Year "
   ]
  },
  {
   "cell_type": "code",
   "execution_count": 5,
   "id": "49c4462e",
   "metadata": {},
   "outputs": [
    {
     "name": "stdout",
     "output_type": "stream",
     "text": [
      "Enter the year -->2024\n",
      "2024 is a leap year.\n"
     ]
    }
   ],
   "source": [
    "year=int(input(\"Enter the year -->\"))\n",
    "\n",
    "if year%4==0:\n",
    "    print(year,\"is a leap year.\")\n",
    "else:\n",
    "    print(year,\"is not a leap year.\")"
   ]
  },
  {
   "cell_type": "markdown",
   "id": "308f171c",
   "metadata": {},
   "source": [
    "### 4.Write a Python Program to Print all Prime Numbers in an Interval "
   ]
  },
  {
   "cell_type": "code",
   "execution_count": 7,
   "id": "746a78d5",
   "metadata": {},
   "outputs": [
    {
     "name": "stdout",
     "output_type": "stream",
     "text": [
      "Enter the start of the interval: 5\n",
      "Enter the end of the interval: 50\n",
      "Prime numbers between 5 and 50:\n",
      "5 7 11 13 17 19 23 29 31 37 41 43 47 "
     ]
    }
   ],
   "source": [
    "try:\n",
    "    start = int(input(\"Enter the start of the interval: \"))\n",
    "    end = int(input(\"Enter the end of the interval: \"))\n",
    "\n",
    "    if start < 0 or end < 0 or start > end:\n",
    "        print(\"Invalid input. The start and end should be positive integers and start <= end.\")\n",
    "    else:\n",
    "        print(f\"Prime numbers between {start} and {end}:\")\n",
    "        for num in range(start, end + 1):\n",
    "            if num > 1:\n",
    "                for i in range(2, num):\n",
    "                    if num % i == 0:\n",
    "                        break\n",
    "                else:\n",
    "                    print(num, end=\" \")\n",
    "except ValueError:\n",
    "    print(\"Invalid input. Please enter valid integers for the start and end of the interval.\")\n",
    "    \n",
    "    \n",
    "# It is copied from google. I have no idea for this question.\n"
   ]
  },
  {
   "cell_type": "markdown",
   "id": "6ca936a9",
   "metadata": {},
   "source": [
    "### 5.Write a Python Program to Print the Fibonacci sequence"
   ]
  },
  {
   "cell_type": "code",
   "execution_count": 8,
   "id": "7804b930",
   "metadata": {},
   "outputs": [
    {
     "name": "stdout",
     "output_type": "stream",
     "text": [
      "Enter the range->15\n",
      "0\n",
      "1\n",
      "1\n",
      "2\n",
      "3\n",
      "5\n",
      "8\n",
      "13\n",
      "21\n",
      "34\n",
      "55\n",
      "89\n",
      "144\n",
      "233\n",
      "377\n"
     ]
    }
   ],
   "source": [
    "num=int(input(\"Enter the range->\"))\n",
    "first=0\n",
    "second=1\n",
    "print(first)\n",
    "print(second)\n",
    "for i in range(1,num-1):\n",
    "    third=first+second\n",
    "    print(third)\n",
    "    first,second=second,third"
   ]
  },
  {
   "cell_type": "markdown",
   "id": "97e09139",
   "metadata": {},
   "source": [
    "### 6.Write a Python Program to Find Armstrong Number in an Interval "
   ]
  },
  {
   "cell_type": "code",
   "execution_count": 10,
   "id": "388909e8",
   "metadata": {},
   "outputs": [
    {
     "name": "stdout",
     "output_type": "stream",
     "text": [
      "Enter the start of the interval: 100\n",
      "Enter the end of the interval: 200\n",
      "Armstrong numbers between  100  and  200\n",
      "153 "
     ]
    }
   ],
   "source": [
    "try:\n",
    "    start = int(input(\"Enter the start of the interval: \"))\n",
    "    end = int(input(\"Enter the end of the interval: \"))\n",
    "\n",
    "    if start < 0 or end < 0 or start > end:\n",
    "        print(\"Invalid input. The start and end should be positive integers and start <= end.\")\n",
    "    else:\n",
    "        print(\"Armstrong numbers between \",start,\" and \",end)\n",
    "        for num in range(start, end + 1):\n",
    "            num_str = str(num)\n",
    "            num_digits = len(num_str)\n",
    "            sum_of_digits = sum(int(digit) ** num_digits for digit in num_str)\n",
    "            if num == sum_of_digits:\n",
    "                print(num, end=\" \")\n",
    "except ValueError:\n",
    "    print(\"Invalid input. Please enter valid integers for the start and end of the interval.\")\n"
   ]
  },
  {
   "cell_type": "markdown",
   "id": "c7321fc4",
   "metadata": {},
   "source": [
    "### 7.Write a Python Program to Find the Sum of Natural Numbers"
   ]
  },
  {
   "cell_type": "code",
   "execution_count": 1,
   "id": "a782a903",
   "metadata": {},
   "outputs": [
    {
     "ename": "SyntaxError",
     "evalue": "invalid syntax (3794320223.py, line 8)",
     "output_type": "error",
     "traceback": [
      "\u001b[1;36m  Cell \u001b[1;32mIn[1], line 8\u001b[1;36m\u001b[0m\n\u001b[1;33m    not in xlist\u001b[0m\n\u001b[1;37m        ^\u001b[0m\n\u001b[1;31mSyntaxError\u001b[0m\u001b[1;31m:\u001b[0m invalid syntax\n"
     ]
    }
   ],
   "source": [
    "xlist=[]\n",
    "\n",
    "for i in range(10):\n",
    "    a=int(input(\"Enter the Number -->\"))\n",
    "    xlist.append(a)\n",
    "    print(xlist)\n",
    "    if a<0:\n",
    "        not in xlist\n",
    "        print(\"negative values is not in natural numbers.\")\n",
    "    else:\n",
    "        Sum=sum(xlist)\n",
    "        print(\"Sum of xlist -->\",Sum)\n",
    "    \n",
    "   \n"
   ]
  },
  {
   "cell_type": "code",
   "execution_count": 7,
   "id": "04d68839",
   "metadata": {},
   "outputs": [
    {
     "name": "stdout",
     "output_type": "stream",
     "text": [
      "Enter a positive number -->-5\n",
      " Please enter a positive number.\n"
     ]
    }
   ],
   "source": [
    "n = int(input(\"Enter a positive number -->\"))\n",
    "if n <= 0:\n",
    "    print(\" Please enter a positive number.\")\n",
    "else:\n",
    "    sum_of_natural_numbers = (n * (n + 1)) // 2\n",
    "    print(\"The sum of natural numbers up to ->\",n,\"is\",sum_of_natural_numbers)\n"
   ]
  },
  {
   "cell_type": "markdown",
   "id": "a5e7a1df",
   "metadata": {},
   "source": [
    "## Assignment 3"
   ]
  },
  {
   "cell_type": "markdown",
   "id": "440f81cd",
   "metadata": {},
   "source": [
    "### 1.Write a Python program to append items from a specified list. "
   ]
  },
  {
   "cell_type": "code",
   "execution_count": 44,
   "id": "88b5c8d3",
   "metadata": {},
   "outputs": [
    {
     "name": "stdout",
     "output_type": "stream",
     "text": [
      "Enter the index -->5\n",
      "Xlist--> [6]\n"
     ]
    },
    {
     "ename": "KeyboardInterrupt",
     "evalue": "Interrupted by user",
     "output_type": "error",
     "traceback": [
      "\u001b[1;31m---------------------------------------------------------------------------\u001b[0m",
      "\u001b[1;31mKeyboardInterrupt\u001b[0m                         Traceback (most recent call last)",
      "Cell \u001b[1;32mIn[44], line 5\u001b[0m\n\u001b[0;32m      3\u001b[0m xlist\u001b[38;5;241m=\u001b[39m[]\n\u001b[0;32m      4\u001b[0m \u001b[38;5;28;01mfor\u001b[39;00m i \u001b[38;5;129;01min\u001b[39;00m a:\n\u001b[1;32m----> 5\u001b[0m     y\u001b[38;5;241m=\u001b[39mxlist\u001b[38;5;241m.\u001b[39mappend(a[\u001b[38;5;28mint\u001b[39m(\u001b[38;5;28;43minput\u001b[39;49m\u001b[43m(\u001b[49m\u001b[38;5;124;43m\"\u001b[39;49m\u001b[38;5;124;43mEnter the index -->\u001b[39;49m\u001b[38;5;124;43m\"\u001b[39;49m\u001b[43m)\u001b[49m)])\n\u001b[0;32m      6\u001b[0m     \u001b[38;5;28mprint\u001b[39m(\u001b[38;5;124m\"\u001b[39m\u001b[38;5;124mXlist-->\u001b[39m\u001b[38;5;124m\"\u001b[39m,xlist)\n",
      "File \u001b[1;32m~\\anaconda3\\lib\\site-packages\\ipykernel\\kernelbase.py:1175\u001b[0m, in \u001b[0;36mKernel.raw_input\u001b[1;34m(self, prompt)\u001b[0m\n\u001b[0;32m   1171\u001b[0m \u001b[38;5;28;01mif\u001b[39;00m \u001b[38;5;129;01mnot\u001b[39;00m \u001b[38;5;28mself\u001b[39m\u001b[38;5;241m.\u001b[39m_allow_stdin:\n\u001b[0;32m   1172\u001b[0m     \u001b[38;5;28;01mraise\u001b[39;00m StdinNotImplementedError(\n\u001b[0;32m   1173\u001b[0m         \u001b[38;5;124m\"\u001b[39m\u001b[38;5;124mraw_input was called, but this frontend does not support input requests.\u001b[39m\u001b[38;5;124m\"\u001b[39m\n\u001b[0;32m   1174\u001b[0m     )\n\u001b[1;32m-> 1175\u001b[0m \u001b[38;5;28;01mreturn\u001b[39;00m \u001b[38;5;28;43mself\u001b[39;49m\u001b[38;5;241;43m.\u001b[39;49m\u001b[43m_input_request\u001b[49m\u001b[43m(\u001b[49m\n\u001b[0;32m   1176\u001b[0m \u001b[43m    \u001b[49m\u001b[38;5;28;43mstr\u001b[39;49m\u001b[43m(\u001b[49m\u001b[43mprompt\u001b[49m\u001b[43m)\u001b[49m\u001b[43m,\u001b[49m\n\u001b[0;32m   1177\u001b[0m \u001b[43m    \u001b[49m\u001b[38;5;28;43mself\u001b[39;49m\u001b[38;5;241;43m.\u001b[39;49m\u001b[43m_parent_ident\u001b[49m\u001b[43m[\u001b[49m\u001b[38;5;124;43m\"\u001b[39;49m\u001b[38;5;124;43mshell\u001b[39;49m\u001b[38;5;124;43m\"\u001b[39;49m\u001b[43m]\u001b[49m\u001b[43m,\u001b[49m\n\u001b[0;32m   1178\u001b[0m \u001b[43m    \u001b[49m\u001b[38;5;28;43mself\u001b[39;49m\u001b[38;5;241;43m.\u001b[39;49m\u001b[43mget_parent\u001b[49m\u001b[43m(\u001b[49m\u001b[38;5;124;43m\"\u001b[39;49m\u001b[38;5;124;43mshell\u001b[39;49m\u001b[38;5;124;43m\"\u001b[39;49m\u001b[43m)\u001b[49m\u001b[43m,\u001b[49m\n\u001b[0;32m   1179\u001b[0m \u001b[43m    \u001b[49m\u001b[43mpassword\u001b[49m\u001b[38;5;241;43m=\u001b[39;49m\u001b[38;5;28;43;01mFalse\u001b[39;49;00m\u001b[43m,\u001b[49m\n\u001b[0;32m   1180\u001b[0m \u001b[43m\u001b[49m\u001b[43m)\u001b[49m\n",
      "File \u001b[1;32m~\\anaconda3\\lib\\site-packages\\ipykernel\\kernelbase.py:1217\u001b[0m, in \u001b[0;36mKernel._input_request\u001b[1;34m(self, prompt, ident, parent, password)\u001b[0m\n\u001b[0;32m   1214\u001b[0m             \u001b[38;5;28;01mbreak\u001b[39;00m\n\u001b[0;32m   1215\u001b[0m \u001b[38;5;28;01mexcept\u001b[39;00m \u001b[38;5;167;01mKeyboardInterrupt\u001b[39;00m:\n\u001b[0;32m   1216\u001b[0m     \u001b[38;5;66;03m# re-raise KeyboardInterrupt, to truncate traceback\u001b[39;00m\n\u001b[1;32m-> 1217\u001b[0m     \u001b[38;5;28;01mraise\u001b[39;00m \u001b[38;5;167;01mKeyboardInterrupt\u001b[39;00m(\u001b[38;5;124m\"\u001b[39m\u001b[38;5;124mInterrupted by user\u001b[39m\u001b[38;5;124m\"\u001b[39m) \u001b[38;5;28;01mfrom\u001b[39;00m \u001b[38;5;28mNone\u001b[39m\n\u001b[0;32m   1218\u001b[0m \u001b[38;5;28;01mexcept\u001b[39;00m \u001b[38;5;167;01mException\u001b[39;00m:\n\u001b[0;32m   1219\u001b[0m     \u001b[38;5;28mself\u001b[39m\u001b[38;5;241m.\u001b[39mlog\u001b[38;5;241m.\u001b[39mwarning(\u001b[38;5;124m\"\u001b[39m\u001b[38;5;124mInvalid Message:\u001b[39m\u001b[38;5;124m\"\u001b[39m, exc_info\u001b[38;5;241m=\u001b[39m\u001b[38;5;28;01mTrue\u001b[39;00m)\n",
      "\u001b[1;31mKeyboardInterrupt\u001b[0m: Interrupted by user"
     ]
    }
   ],
   "source": [
    "a=[1,2,3,4,5,6,7,8,'v','b','j']\n",
    "\n",
    "xlist=[]\n",
    "for i in a:\n",
    "    y=xlist.append(a[int(input(\"Enter the index -->\"))])\n",
    "    print(\"Xlist-->\",xlist)\n",
    "   "
   ]
  },
  {
   "cell_type": "markdown",
   "id": "42a75162",
   "metadata": {},
   "source": [
    "### 2. Write a python program Check if a Substring is Present in a Given String "
   ]
  },
  {
   "cell_type": "code",
   "execution_count": null,
   "id": "5aea80ba",
   "metadata": {},
   "outputs": [],
   "source": [
    "string=input(\"Enter the String -->\")\n",
    "substring=input(\"Enter the Substring -->\")\n",
    "\n",
    "if substring in string:\n",
    "    print(substring,\"is present in the string.\")\n",
    "else:\n",
    "    print(substring,\"is not present in the string.\")"
   ]
  },
  {
   "cell_type": "markdown",
   "id": "be62829d",
   "metadata": {},
   "source": [
    "### 3. Write a python program Words Frequency in String Shorthands "
   ]
  },
  {
   "cell_type": "code",
   "execution_count": 26,
   "id": "cb24b332",
   "metadata": {},
   "outputs": [
    {
     "name": "stdout",
     "output_type": "stream",
     "text": [
      "The original string is -Hitesh is is is a good a good trainer.\n",
      "words frequency are{'Hitesh': 1, 'is': 3, 'a': 3, 'good': 2, 'trainer.': 1}\n"
     ]
    }
   ],
   "source": [
    "string=\"Hitesh is is is a good a good trainer.\"\n",
    "print(\"The original string is -\"+str(string))\n",
    "result={key:string.count(key)for key in string.split()}\n",
    "print(\"words frequency are\"+str(result))"
   ]
  },
  {
   "cell_type": "markdown",
   "id": "b8aa5c43",
   "metadata": {},
   "source": [
    "### 4.Write a python program Convert Snake case to Pascal case "
   ]
  },
  {
   "cell_type": "code",
   "execution_count": 29,
   "id": "1021b802",
   "metadata": {},
   "outputs": [
    {
     "name": "stdout",
     "output_type": "stream",
     "text": [
      "Original String is -Delhi_is_located_in_India.\n",
      "String after changing -Delhi Is Located In India.\n"
     ]
    }
   ],
   "source": [
    "str1=\"Delhi_is_located_in_India.\"\n",
    "print(\"Original String is -\"+str1)\n",
    "result=str1.replace(\"_\",\" \").title().replace(\"\",\"\")\n",
    "print(\"String after changing -\"+str(result))"
   ]
  },
  {
   "cell_type": "markdown",
   "id": "156958fc",
   "metadata": {},
   "source": [
    "### 5.Write a Python function to calculate the factorial of a number (a non-negative integer). The function accepts the number as an argument. "
   ]
  },
  {
   "cell_type": "code",
   "execution_count": 5,
   "id": "712dc864",
   "metadata": {},
   "outputs": [
    {
     "name": "stdout",
     "output_type": "stream",
     "text": [
      "Enter the Number --> 5\n",
      "120\n"
     ]
    }
   ],
   "source": [
    "def factorial(n):\n",
    "\n",
    " \n",
    "\n",
    "  if n == 0:\n",
    "    return 1\n",
    "  else:\n",
    "    return n * factorial(n - 1)\n",
    "\n",
    "\n",
    "if __name__ == \"__main__\":\n",
    "    print(factorial(int(input(\"Enter the Number --> \"))))"
   ]
  },
  {
   "cell_type": "markdown",
   "id": "dccd0e4f",
   "metadata": {},
   "source": [
    "### 6.Write a Python function to check whether a number is in a given range. "
   ]
  },
  {
   "cell_type": "code",
   "execution_count": 8,
   "id": "f4bc511f",
   "metadata": {},
   "outputs": [
    {
     "name": "stdout",
     "output_type": "stream",
     "text": [
      "Enter the Number --> 17\n",
      "False\n"
     ]
    }
   ],
   "source": [
    "def in_range(number, start, end):\n",
    " \n",
    "  return start <= number <= end\n",
    "\n",
    "\n",
    "if __name__ == \"__main__\":\n",
    "    start = 5\n",
    "    end = 15\n",
    "    number = int(input(\"Enter the Number --> \"))\n",
    "    \n",
    "    print(in_range(number, start, end))"
   ]
  },
  {
   "cell_type": "markdown",
   "id": "6d974473",
   "metadata": {},
   "source": [
    "### 7.Write a Python function that accepts a string and calculate the number of upper case letters and lower case letters. "
   ]
  },
  {
   "cell_type": "code",
   "execution_count": 10,
   "id": "cce87d9b",
   "metadata": {},
   "outputs": [
    {
     "name": "stdout",
     "output_type": "stream",
     "text": [
      "The string contains 1 upper case letters and 16 lower case letters.\n"
     ]
    }
   ],
   "source": [
    "def upper_lower_case(string):\n",
    "\n",
    "    upper_case = 0\n",
    "    lower_case = 0\n",
    "\n",
    "    for letter in string:\n",
    "        if letter.isupper():\n",
    "            upper_case += 1\n",
    "        elif letter.islower():\n",
    "            lower_case += 1\n",
    "\n",
    "    return upper_case, lower_case\n",
    "\n",
    "\n",
    "if __name__ == \"__main__\":\n",
    "    string = \"This is a test string.\"\n",
    "    upper_case, lower_case = upper_lower_case(string)\n",
    "    print(f\"The string contains {upper_case} upper case letters and {lower_case} lower case letters.\")\n"
   ]
  },
  {
   "cell_type": "markdown",
   "id": "058be8e0",
   "metadata": {},
   "source": [
    "### 8.Write a Python program to detect the number of local variables declared in a function."
   ]
  },
  {
   "cell_type": "code",
   "execution_count": 11,
   "id": "b7eea01b",
   "metadata": {},
   "outputs": [
    {
     "name": "stdout",
     "output_type": "stream",
     "text": [
      "The function has 3 local variables.\n"
     ]
    }
   ],
   "source": [
    "def local_variables(function):\n",
    "\n",
    "    code = function.__code__\n",
    "    return code.co_nlocals\n",
    "\n",
    "\n",
    "if __name__ == \"__main__\":\n",
    "    def my_function():\n",
    "        x = 1\n",
    "        y = 2\n",
    "        z = 3\n",
    "\n",
    "    number_of_local_variables = local_variables(my_function)\n",
    "    print(f\"The function has {number_of_local_variables} local variables.\")"
   ]
  },
  {
   "cell_type": "markdown",
   "id": "6e3f0b96",
   "metadata": {},
   "source": [
    "### 9.Write a python program to Remove all duplicates from a given string in Python "
   ]
  },
  {
   "cell_type": "code",
   "execution_count": 12,
   "id": "293e4dc1",
   "metadata": {},
   "outputs": [
    {
     "name": "stdout",
     "output_type": "stream",
     "text": [
      "I lovemyndia.\n"
     ]
    }
   ],
   "source": [
    "def remove_duplicates(string):\n",
    "    seen = set()\n",
    "    new_string = \"\"\n",
    "\n",
    "    for character in string:\n",
    "        if character not in seen:\n",
    "            seen.add(character)\n",
    "            new_string += character\n",
    "\n",
    "    return new_string\n",
    "\n",
    "\n",
    "if __name__ == \"__main__\":\n",
    "    string = \"I love my India.\"\n",
    "    new_string = remove_duplicates(string)\n",
    "    print(new_string)"
   ]
  },
  {
   "cell_type": "markdown",
   "id": "6487fa7e",
   "metadata": {},
   "source": [
    "### 10.Write a Python function that checks whether a passed string is palindrome or not. "
   ]
  },
  {
   "cell_type": "code",
   "execution_count": 14,
   "id": "6de255fc",
   "metadata": {},
   "outputs": [
    {
     "name": "stdout",
     "output_type": "stream",
     "text": [
      "Palindrome\n"
     ]
    }
   ],
   "source": [
    "def palindrome(string):\n",
    "    string = string.lower()\n",
    "    for i in range(len(string) // 2):\n",
    "        if string[i] != string[-i - 1]:\n",
    "            return \"Not Palindrome\"\n",
    "\n",
    "    return \"Palindrome\"\n",
    "\n",
    "\n",
    "if __name__ == \"__main__\":\n",
    "    string = \"racecar\"\n",
    "    print(palindrome(string))"
   ]
  },
  {
   "cell_type": "markdown",
   "id": "7a600bec",
   "metadata": {},
   "source": [
    "### 11.Write a Python program that accepts a hyphen-separated sequence of words as input and prints the words in a hyphen-separated sequence after sorting them alphabetically."
   ]
  },
  {
   "cell_type": "code",
   "execution_count": 17,
   "id": "24104d00",
   "metadata": {},
   "outputs": [
    {
     "ename": "KeyboardInterrupt",
     "evalue": "Interrupted by user",
     "output_type": "error",
     "traceback": [
      "\u001b[1;31m---------------------------------------------------------------------------\u001b[0m",
      "\u001b[1;31mKeyboardInterrupt\u001b[0m                         Traceback (most recent call last)",
      "Cell \u001b[1;32mIn[17], line 8\u001b[0m\n\u001b[0;32m      4\u001b[0m     \u001b[38;5;28;01mreturn\u001b[39;00m \u001b[38;5;124m\"\u001b[39m\u001b[38;5;124m-\u001b[39m\u001b[38;5;124m\"\u001b[39m\u001b[38;5;241m.\u001b[39mjoin(words)\n\u001b[0;32m      7\u001b[0m \u001b[38;5;28;01mif\u001b[39;00m \u001b[38;5;18m__name__\u001b[39m \u001b[38;5;241m==\u001b[39m \u001b[38;5;124m\"\u001b[39m\u001b[38;5;124m__main__\u001b[39m\u001b[38;5;124m\"\u001b[39m:\n\u001b[1;32m----> 8\u001b[0m     words \u001b[38;5;241m=\u001b[39m \u001b[38;5;28;43minput\u001b[39;49m\u001b[43m(\u001b[49m\u001b[38;5;124;43m\"\u001b[39;49m\u001b[38;5;124;43mEnter hyphen-separate words: \u001b[39;49m\u001b[38;5;124;43m\"\u001b[39;49m\u001b[43m)\u001b[49m\n\u001b[0;32m      9\u001b[0m     sorted_words \u001b[38;5;241m=\u001b[39m hyphen_separate_words(words)\n\u001b[0;32m     10\u001b[0m     \u001b[38;5;28mprint\u001b[39m(sorted_words)\n",
      "File \u001b[1;32m~\\anaconda3\\lib\\site-packages\\ipykernel\\kernelbase.py:1175\u001b[0m, in \u001b[0;36mKernel.raw_input\u001b[1;34m(self, prompt)\u001b[0m\n\u001b[0;32m   1171\u001b[0m \u001b[38;5;28;01mif\u001b[39;00m \u001b[38;5;129;01mnot\u001b[39;00m \u001b[38;5;28mself\u001b[39m\u001b[38;5;241m.\u001b[39m_allow_stdin:\n\u001b[0;32m   1172\u001b[0m     \u001b[38;5;28;01mraise\u001b[39;00m StdinNotImplementedError(\n\u001b[0;32m   1173\u001b[0m         \u001b[38;5;124m\"\u001b[39m\u001b[38;5;124mraw_input was called, but this frontend does not support input requests.\u001b[39m\u001b[38;5;124m\"\u001b[39m\n\u001b[0;32m   1174\u001b[0m     )\n\u001b[1;32m-> 1175\u001b[0m \u001b[38;5;28;01mreturn\u001b[39;00m \u001b[38;5;28;43mself\u001b[39;49m\u001b[38;5;241;43m.\u001b[39;49m\u001b[43m_input_request\u001b[49m\u001b[43m(\u001b[49m\n\u001b[0;32m   1176\u001b[0m \u001b[43m    \u001b[49m\u001b[38;5;28;43mstr\u001b[39;49m\u001b[43m(\u001b[49m\u001b[43mprompt\u001b[49m\u001b[43m)\u001b[49m\u001b[43m,\u001b[49m\n\u001b[0;32m   1177\u001b[0m \u001b[43m    \u001b[49m\u001b[38;5;28;43mself\u001b[39;49m\u001b[38;5;241;43m.\u001b[39;49m\u001b[43m_parent_ident\u001b[49m\u001b[43m[\u001b[49m\u001b[38;5;124;43m\"\u001b[39;49m\u001b[38;5;124;43mshell\u001b[39;49m\u001b[38;5;124;43m\"\u001b[39;49m\u001b[43m]\u001b[49m\u001b[43m,\u001b[49m\n\u001b[0;32m   1178\u001b[0m \u001b[43m    \u001b[49m\u001b[38;5;28;43mself\u001b[39;49m\u001b[38;5;241;43m.\u001b[39;49m\u001b[43mget_parent\u001b[49m\u001b[43m(\u001b[49m\u001b[38;5;124;43m\"\u001b[39;49m\u001b[38;5;124;43mshell\u001b[39;49m\u001b[38;5;124;43m\"\u001b[39;49m\u001b[43m)\u001b[49m\u001b[43m,\u001b[49m\n\u001b[0;32m   1179\u001b[0m \u001b[43m    \u001b[49m\u001b[43mpassword\u001b[49m\u001b[38;5;241;43m=\u001b[39;49m\u001b[38;5;28;43;01mFalse\u001b[39;49;00m\u001b[43m,\u001b[49m\n\u001b[0;32m   1180\u001b[0m \u001b[43m\u001b[49m\u001b[43m)\u001b[49m\n",
      "File \u001b[1;32m~\\anaconda3\\lib\\site-packages\\ipykernel\\kernelbase.py:1217\u001b[0m, in \u001b[0;36mKernel._input_request\u001b[1;34m(self, prompt, ident, parent, password)\u001b[0m\n\u001b[0;32m   1214\u001b[0m             \u001b[38;5;28;01mbreak\u001b[39;00m\n\u001b[0;32m   1215\u001b[0m \u001b[38;5;28;01mexcept\u001b[39;00m \u001b[38;5;167;01mKeyboardInterrupt\u001b[39;00m:\n\u001b[0;32m   1216\u001b[0m     \u001b[38;5;66;03m# re-raise KeyboardInterrupt, to truncate traceback\u001b[39;00m\n\u001b[1;32m-> 1217\u001b[0m     \u001b[38;5;28;01mraise\u001b[39;00m \u001b[38;5;167;01mKeyboardInterrupt\u001b[39;00m(\u001b[38;5;124m\"\u001b[39m\u001b[38;5;124mInterrupted by user\u001b[39m\u001b[38;5;124m\"\u001b[39m) \u001b[38;5;28;01mfrom\u001b[39;00m \u001b[38;5;28mNone\u001b[39m\n\u001b[0;32m   1218\u001b[0m \u001b[38;5;28;01mexcept\u001b[39;00m \u001b[38;5;167;01mException\u001b[39;00m:\n\u001b[0;32m   1219\u001b[0m     \u001b[38;5;28mself\u001b[39m\u001b[38;5;241m.\u001b[39mlog\u001b[38;5;241m.\u001b[39mwarning(\u001b[38;5;124m\"\u001b[39m\u001b[38;5;124mInvalid Message:\u001b[39m\u001b[38;5;124m\"\u001b[39m, exc_info\u001b[38;5;241m=\u001b[39m\u001b[38;5;28;01mTrue\u001b[39;00m)\n",
      "\u001b[1;31mKeyboardInterrupt\u001b[0m: Interrupted by user"
     ]
    }
   ],
   "source": [
    "def hyphen_separate_words(words):\n",
    "    words = words.split(\"-\")\n",
    "    words.sort()\n",
    "    return \"-\".join(words)\n",
    "\n",
    "\n",
    "if __name__ == \"__main__\":\n",
    "    words = input(\"Enter hyphen-separate words: \")\n",
    "    sorted_words = hyphen_separate_words(words)\n",
    "    print(sorted_words)"
   ]
  },
  {
   "cell_type": "markdown",
   "id": "cb93f905",
   "metadata": {},
   "source": [
    "## Assignment 4\n",
    "### Set A\n",
    "### List\n"
   ]
  },
  {
   "cell_type": "markdown",
   "id": "5ea9ad46",
   "metadata": {},
   "source": [
    "### 1.Write a Python program to sum all the items in a list. "
   ]
  },
  {
   "cell_type": "code",
   "execution_count": 3,
   "id": "cd1b5c09",
   "metadata": {},
   "outputs": [
    {
     "name": "stdout",
     "output_type": "stream",
     "text": [
      "The Total Sum of Items --> 45\n"
     ]
    }
   ],
   "source": [
    "def Sum_(items):\n",
    "\n",
    "\n",
    "    sum = 0\n",
    "    for item in items:\n",
    "        sum += item\n",
    "\n",
    "    return sum\n",
    "\n",
    "\n",
    "if __name__ == \"__main__\":\n",
    "    items = [1,2,3,4,5,6,7,8,9]\n",
    "    sum = Sum_(items)\n",
    "    print(\"The Total Sum of Items -->\",sum)"
   ]
  },
  {
   "cell_type": "markdown",
   "id": "df4266b9",
   "metadata": {},
   "source": [
    "### 2.Write a Python program to multiplies all the items in a list. "
   ]
  },
  {
   "cell_type": "code",
   "execution_count": 4,
   "id": "5b83432a",
   "metadata": {},
   "outputs": [
    {
     "name": "stdout",
     "output_type": "stream",
     "text": [
      "The Total multiply of Items --> 24\n"
     ]
    }
   ],
   "source": [
    "def multiply_(items):\n",
    "\n",
    "\n",
    "    multiply = 1\n",
    "    for item in items:\n",
    "        multiply *= item\n",
    "\n",
    "    return multiply\n",
    "\n",
    "\n",
    "if __name__ == \"__main__\":\n",
    "    items = [1,2,3,4]\n",
    "    multiply = multiply_(items)\n",
    "    print(\"The Total multiply of Items -->\",multiply)"
   ]
  },
  {
   "cell_type": "markdown",
   "id": "cf44d814",
   "metadata": {},
   "source": [
    "### 3.Write a Python program to get a list, sorted in increasing order by the last element in each tuple from a given list of non-empty tuples. \n"
   ]
  },
  {
   "cell_type": "code",
   "execution_count": 5,
   "id": "9e12e338",
   "metadata": {},
   "outputs": [
    {
     "name": "stdout",
     "output_type": "stream",
     "text": [
      "[(11, 2), (2, 3), (2, 4), (43, 64), (2, 81)]\n"
     ]
    }
   ],
   "source": [
    "\n",
    "def sort_by_last_element(tuples):\n",
    "\n",
    "    sort_tuples = sorted(tuples, key=lambda tuple: tuple[-1])\n",
    "    return sort_tuples\n",
    "\n",
    "\n",
    "if __name__ == \"__main__\":\n",
    "    tuples = [(2, 4), (11, 2), (43, 64), (2, 3), (2, 81)]\n",
    "    sort_tuples = sort_by_last_element(tuples)\n",
    "    print(sort_tuples)"
   ]
  },
  {
   "cell_type": "markdown",
   "id": "af8ae0c5",
   "metadata": {},
   "source": [
    "### Tuple"
   ]
  },
  {
   "cell_type": "markdown",
   "id": "ec2895c3",
   "metadata": {},
   "source": [
    "### 1.Write a Python program to create a tuple. "
   ]
  },
  {
   "cell_type": "code",
   "execution_count": 6,
   "id": "d3302070",
   "metadata": {},
   "outputs": [
    {
     "name": "stdout",
     "output_type": "stream",
     "text": [
      "('apple', 'banana', 'cat', 'dog')\n",
      "<class 'tuple'>\n"
     ]
    }
   ],
   "source": [
    "tuple_=('apple','banana','cat','dog')\n",
    "print(tuple_)\n",
    "print(type(tuple_))"
   ]
  },
  {
   "cell_type": "markdown",
   "id": "1947d8e4",
   "metadata": {},
   "source": [
    "### 2.Write a Python program to create a tuple with different data types. "
   ]
  },
  {
   "cell_type": "code",
   "execution_count": 17,
   "id": "f7ab9243",
   "metadata": {},
   "outputs": [
    {
     "name": "stdout",
     "output_type": "stream",
     "text": [
      "('Apple', 23, True, 23.5)\n",
      "<class 'tuple'>\n",
      "Apple <class 'str'>\n",
      "23 <class 'int'>\n",
      "True <class 'bool'>\n",
      "23.5 <class 'float'>\n"
     ]
    }
   ],
   "source": [
    "tuple__=(\"Apple\",23,True,23.5)\n",
    "print(tuple__)\n",
    "print(type(tuple__))\n",
    "for i in tuple__:\n",
    "    print(i,type(i))"
   ]
  },
  {
   "cell_type": "markdown",
   "id": "18390936",
   "metadata": {},
   "source": [
    "### 3.Write a Python program to check whether an element exists within a tuple. "
   ]
  },
  {
   "cell_type": "code",
   "execution_count": 13,
   "id": "c1f7346e",
   "metadata": {},
   "outputs": [
    {
     "name": "stdout",
     "output_type": "stream",
     "text": [
      "Enter the value -->3\n",
      "True\n"
     ]
    }
   ],
   "source": [
    "tuple_1=(1,2,3,4,5)\n",
    "element=int(input(\"Enter the value -->\"))\n",
    "found=False\n",
    "for i in tuple_1:\n",
    "    if i==element:\n",
    "        found=True\n",
    "        \n",
    "print(found)"
   ]
  },
  {
   "cell_type": "markdown",
   "id": "2f78c06e",
   "metadata": {},
   "source": [
    "### Set\n",
    "### 1.Write a Python program to create a set. "
   ]
  },
  {
   "cell_type": "code",
   "execution_count": 15,
   "id": "e85d28cf",
   "metadata": {},
   "outputs": [
    {
     "name": "stdout",
     "output_type": "stream",
     "text": [
      "{'jai', 1, 2, 3, 4, 5, 23.4}\n",
      "<class 'set'>\n"
     ]
    }
   ],
   "source": [
    "set_={1,2,3,4,5,'jai',23.4,True}\n",
    "print(set_)\n",
    "print(type(set_))"
   ]
  },
  {
   "cell_type": "markdown",
   "id": "6cc82177",
   "metadata": {},
   "source": [
    "### 2.Write a Python program to iterate over sets."
   ]
  },
  {
   "cell_type": "code",
   "execution_count": 16,
   "id": "7fb38244",
   "metadata": {},
   "outputs": [
    {
     "name": "stdout",
     "output_type": "stream",
     "text": [
      "1\n",
      "2\n",
      "3\n",
      "4\n",
      "5\n",
      "6\n",
      "7\n",
      "8\n"
     ]
    }
   ],
   "source": [
    "set_1={1,2,3,4,5,6,7,8}\n",
    "for i in set_1:\n",
    "    print(i)"
   ]
  },
  {
   "cell_type": "markdown",
   "id": "20b00cad",
   "metadata": {},
   "source": [
    "### 3.Write a Python program to create set difference. "
   ]
  },
  {
   "cell_type": "code",
   "execution_count": 18,
   "id": "4256fb5a",
   "metadata": {},
   "outputs": [
    {
     "name": "stdout",
     "output_type": "stream",
     "text": [
      "{3, 4, 5, 6}\n"
     ]
    }
   ],
   "source": [
    "set_1={1,2,3,4,5,6}\n",
    "set_2={7,8,9,1,2}\n",
    "set_difference=set_1-set_2\n",
    "print(set_difference)"
   ]
  },
  {
   "cell_type": "markdown",
   "id": "8c051fcb",
   "metadata": {},
   "source": [
    "### Dictionary\n",
    "### 1.Write a Python script to sort (ascending and descending) a dictionary by value. "
   ]
  },
  {
   "cell_type": "code",
   "execution_count": 20,
   "id": "aa1ad83d",
   "metadata": {},
   "outputs": [
    {
     "name": "stdout",
     "output_type": "stream",
     "text": [
      "Sorted dictionary in ascending order:\n",
      "d ankit\n",
      "b kapil\n",
      "c ravi\n",
      "a vikrant\n",
      "Sorted dictionary in descending order:\n",
      "a vikrant\n",
      "c ravi\n",
      "b kapil\n",
      "d ankit\n"
     ]
    }
   ],
   "source": [
    "dictionary_ = {'a': 'vikrant', 'b': 'kapil', 'c': 'ravi', 'd': 'ankit'}\n",
    "\n",
    "sorted_dictionary = sorted(dictionary_.items(), key=lambda x: x[1])\n",
    "print(\"Sorted dictionary in ascending order:\")\n",
    "for key, value in sorted_dictionary:\n",
    "    print(key, value)\n",
    "sorted_dictionary = sorted(dictionary_.items(), key=lambda x: x[1], reverse=True)\n",
    "print(\"Sorted dictionary in descending order:\")\n",
    "for key, value in sorted_dictionary:\n",
    "    print(key, value)"
   ]
  },
  {
   "cell_type": "markdown",
   "id": "d6cc4ff3",
   "metadata": {},
   "source": [
    "### 2.Write a Python script to add a key to a dictionary. "
   ]
  },
  {
   "cell_type": "code",
   "execution_count": 23,
   "id": "8887d525",
   "metadata": {},
   "outputs": [
    {
     "name": "stdout",
     "output_type": "stream",
     "text": [
      "Before adding a new key - {1: 23, 2: 34, 3: 45, 4: 56}\n",
      "After adding a new key - {1: 23, 2: 34, 3: 45, 4: 56, 5: 67}\n"
     ]
    }
   ],
   "source": [
    "dictionary_1={1:23,2:34,3:45,4:56}\n",
    "print(\"Before adding a new key -\",dictionary_1)\n",
    "dictionary_1[5]=67   # adding a new key\n",
    "print(\"After adding a new key -\",dictionary_1)"
   ]
  },
  {
   "cell_type": "markdown",
   "id": "1b91d9eb",
   "metadata": {},
   "source": [
    "### 3.Write a Python program to iterate over dictionaries using for loops. "
   ]
  },
  {
   "cell_type": "code",
   "execution_count": 29,
   "id": "33e8601f",
   "metadata": {},
   "outputs": [
    {
     "name": "stdout",
     "output_type": "stream",
     "text": [
      "Key --> 1 , Value --> 23\n",
      "Key --> 2 , Value --> 34\n",
      "Key --> 3 , Value --> 45\n",
      "Key --> 4 , Value --> 56\n"
     ]
    }
   ],
   "source": [
    "dictionary_1={1:23,2:34,3:45,4:56}\n",
    "for key,value in dictionary_1.items():\n",
    "    print(\"Key -->\",key,\",\",\"Value -->\",value)\n",
    "    "
   ]
  },
  {
   "cell_type": "markdown",
   "id": "fd18fdc2",
   "metadata": {},
   "source": [
    "## Set B\n",
    "### List\n",
    "### 1.Write a Python program to remove duplicates from a list. "
   ]
  },
  {
   "cell_type": "code",
   "execution_count": 34,
   "id": "886e0cbe",
   "metadata": {},
   "outputs": [
    {
     "name": "stdout",
     "output_type": "stream",
     "text": [
      "[1, 2, 3, 4, 5]\n"
     ]
    }
   ],
   "source": [
    "list_=[1,1,2,3,4,5,4,3,2,5]\n",
    "new_list = []\n",
    "for i in list_:\n",
    "    if i not in new_list:\n",
    "        new_list.append(i)\n",
    "print(new_list)"
   ]
  },
  {
   "cell_type": "markdown",
   "id": "f622b18d",
   "metadata": {},
   "source": [
    "### 2.Write a Python program to check a list is empty or not. "
   ]
  },
  {
   "cell_type": "code",
   "execution_count": 36,
   "id": "1c145887",
   "metadata": {},
   "outputs": [
    {
     "name": "stdout",
     "output_type": "stream",
     "text": [
      "List is empty.\n"
     ]
    }
   ],
   "source": [
    "list_=[]\n",
    "if len(list_)==0:\n",
    "    print(\"List is empty.\")\n",
    "else:\n",
    "    print(\"list is not empty.\")"
   ]
  },
  {
   "cell_type": "markdown",
   "id": "638d2d50",
   "metadata": {},
   "source": [
    "### Tuples\n",
    "### 1.Write a Python program to convert a list to a tuple. "
   ]
  },
  {
   "cell_type": "code",
   "execution_count": 1,
   "id": "3cfaff08",
   "metadata": {},
   "outputs": [
    {
     "name": "stdout",
     "output_type": "stream",
     "text": [
      "(1, 2, 3, 4, 5)\n"
     ]
    }
   ],
   "source": [
    "list_=[1,2,3,4,5]\n",
    "tuple_=tuple(list_)\n",
    "print(tuple_)"
   ]
  },
  {
   "cell_type": "markdown",
   "id": "2c4c049f",
   "metadata": {},
   "source": [
    "### 2.Write a Python program to remove an item from a tuple. "
   ]
  },
  {
   "cell_type": "code",
   "execution_count": 5,
   "id": "de0444b6",
   "metadata": {},
   "outputs": [
    {
     "name": "stdout",
     "output_type": "stream",
     "text": [
      "(1, 2, 4, 5)\n"
     ]
    }
   ],
   "source": [
    "tuple_=(1,2,3,4,5)\n",
    "list_=list(tuple_)\n",
    "list_.remove(3)\n",
    "tuple_1=tuple(list_)\n",
    "print(tuple_1)"
   ]
  },
  {
   "cell_type": "markdown",
   "id": "9038788a",
   "metadata": {},
   "source": [
    "### 3.Write a Python program to slice a tuple. "
   ]
  },
  {
   "cell_type": "code",
   "execution_count": 12,
   "id": "96e32fb3",
   "metadata": {},
   "outputs": [
    {
     "data": {
      "text/plain": [
       "2"
      ]
     },
     "execution_count": 12,
     "metadata": {},
     "output_type": "execute_result"
    }
   ],
   "source": [
    "tuple_1=(1,2,3,4,5)\n",
    "\n",
    "tuple_1[1]\n"
   ]
  },
  {
   "cell_type": "markdown",
   "id": "2d594b66",
   "metadata": {},
   "source": [
    "### 4.Write a Python program to find the length of a tuple. "
   ]
  },
  {
   "cell_type": "code",
   "execution_count": 13,
   "id": "7868a4d8",
   "metadata": {},
   "outputs": [
    {
     "name": "stdout",
     "output_type": "stream",
     "text": [
      "5\n"
     ]
    }
   ],
   "source": [
    "tuple_1=(1,2,3,4,5)\n",
    "tup=len(tuple_1)\n",
    "print(tup)"
   ]
  },
  {
   "cell_type": "markdown",
   "id": "a0b91f16",
   "metadata": {},
   "source": [
    "### Sets\n",
    "### 1.Write a Python program to check if a set is a subset of another set. "
   ]
  },
  {
   "cell_type": "code",
   "execution_count": 14,
   "id": "3814f8e3",
   "metadata": {},
   "outputs": [
    {
     "name": "stdout",
     "output_type": "stream",
     "text": [
      "False\n"
     ]
    }
   ],
   "source": [
    "set_1 = {1, 2, 3, 4}\n",
    "set_2 = {1, 2, 3}\n",
    "\n",
    "subset= all(element in set_2 for element in set_1)\n",
    "\n",
    "print(subset)"
   ]
  },
  {
   "cell_type": "markdown",
   "id": "2a02aeac",
   "metadata": {},
   "source": [
    "### 2.Write a Python program to find maximum and the minimum value in a set. "
   ]
  },
  {
   "cell_type": "code",
   "execution_count": 16,
   "id": "fc1d483b",
   "metadata": {},
   "outputs": [
    {
     "name": "stdout",
     "output_type": "stream",
     "text": [
      "Maximum -> 5\n",
      "Minimum -> 1\n"
     ]
    }
   ],
   "source": [
    "set_1={1,2,3,4,5}\n",
    "maximum=max(set_1)\n",
    "minimum=min(set_1)\n",
    "print(\"Maximum ->\",maximum)\n",
    "print(\"Minimum ->\",minimum)"
   ]
  },
  {
   "cell_type": "markdown",
   "id": "ce48dde6",
   "metadata": {},
   "source": [
    "### 3.Write a Python program to find the length of a set. "
   ]
  },
  {
   "cell_type": "code",
   "execution_count": 17,
   "id": "f8e311b3",
   "metadata": {},
   "outputs": [
    {
     "name": "stdout",
     "output_type": "stream",
     "text": [
      "5\n"
     ]
    }
   ],
   "source": [
    "set_1={1,2,3,4,5}\n",
    "length=len(set_1)\n",
    "print(length)"
   ]
  },
  {
   "cell_type": "markdown",
   "id": "32754931",
   "metadata": {},
   "source": [
    "### Dictionary\n",
    "### 1.Write a Python script to generate and print a dictionary that contains a number (between 1 and n) in the form (x, x*x). \n"
   ]
  },
  {
   "cell_type": "code",
   "execution_count": 19,
   "id": "42c94bbb",
   "metadata": {},
   "outputs": [
    {
     "name": "stdout",
     "output_type": "stream",
     "text": [
      "{1: 1, 2: 4, 3: 9, 4: 16, 5: 25, 6: 36, 7: 49, 8: 64, 9: 81, 10: 100}\n"
     ]
    }
   ],
   "source": [
    "n = 10\n",
    "square_dictionary = {x: x * x for x in range(1, n + 1)}\n",
    "\n",
    "print(square_dictionary)"
   ]
  },
  {
   "cell_type": "markdown",
   "id": "6e82038e",
   "metadata": {},
   "source": [
    "### 3.Write a Python script to merge two Python dictionaries. "
   ]
  },
  {
   "cell_type": "code",
   "execution_count": 21,
   "id": "2bbc6571",
   "metadata": {},
   "outputs": [
    {
     "name": "stdout",
     "output_type": "stream",
     "text": [
      "{1: 1, 2: 2, 3: 3, 4: 4, 5: 5, 6: 6}\n"
     ]
    }
   ],
   "source": [
    "dictionary_1 = {1: 1, 2: 2, 3: 3}\n",
    "dictionary_2 = {4: 4, 5: 5, 6: 6}\n",
    "\n",
    "merged_dictionary = dict(dictionary_1.copy())\n",
    "merged_dictionary.update(dictionary_2)\n",
    "\n",
    "print(merged_dictionary)"
   ]
  },
  {
   "cell_type": "markdown",
   "id": "aaf0aa59",
   "metadata": {},
   "source": [
    "### 4.Write a Python program to get a dictionary from an object's fields. "
   ]
  },
  {
   "cell_type": "code",
   "execution_count": null,
   "id": "3711394a",
   "metadata": {},
   "outputs": [],
   "source": []
  },
  {
   "cell_type": "markdown",
   "id": "54a963d2",
   "metadata": {},
   "source": [
    "### Program for practice\n",
    "### 1.Write a Python program to get the largest number from a list. "
   ]
  },
  {
   "cell_type": "code",
   "execution_count": 25,
   "id": "ac2f6c33",
   "metadata": {},
   "outputs": [
    {
     "name": "stdout",
     "output_type": "stream",
     "text": [
      "7876\n"
     ]
    }
   ],
   "source": [
    "list_=[1,2,3,4,5,345,456,67,4534,7876,456,345,2345]\n",
    "maximum=max(list_)\n",
    "print(maximum)"
   ]
  },
  {
   "cell_type": "markdown",
   "id": "31a2639d",
   "metadata": {},
   "source": [
    "### 2.Write a Python program to get the smallest number from a list. "
   ]
  },
  {
   "cell_type": "code",
   "execution_count": 26,
   "id": "2f7c1476",
   "metadata": {},
   "outputs": [
    {
     "name": "stdout",
     "output_type": "stream",
     "text": [
      "1\n"
     ]
    }
   ],
   "source": [
    "list_=[1,2,3,4,5,345,456,67,4534,7876,456,345,2345]\n",
    "minimum=min(list_)\n",
    "print(minimum)"
   ]
  },
  {
   "cell_type": "markdown",
   "id": "adbb010c",
   "metadata": {},
   "source": [
    "### 3.Write a Python program to count the number of strings where the string length is 2 or more and the first and last character are same from a given list of strings. \n"
   ]
  },
  {
   "cell_type": "code",
   "execution_count": 30,
   "id": "b974c942",
   "metadata": {},
   "outputs": [
    {
     "name": "stdout",
     "output_type": "stream",
     "text": [
      "1\n"
     ]
    }
   ],
   "source": [
    "def counts_string(strings):\n",
    "\n",
    "    count = 0\n",
    "    for string in strings:\n",
    "        if len(string) >= 2 and string[0] == string[-1]:\n",
    "            count += 1\n",
    "\n",
    "    return count\n",
    "\n",
    "\n",
    "if __name__ == \"__main__\":\n",
    "    strings = [\"abc\", \"aba\", \"xyz\", \"123\", \"cd\"]\n",
    "    count = counts_string(strings)\n",
    "    print(count)"
   ]
  },
  {
   "cell_type": "markdown",
   "id": "3d17228e",
   "metadata": {},
   "source": [
    "### 4.Write a Python program to add an item in a tuple. "
   ]
  },
  {
   "cell_type": "code",
   "execution_count": 32,
   "id": "29ba02dd",
   "metadata": {},
   "outputs": [
    {
     "name": "stdout",
     "output_type": "stream",
     "text": [
      "Before - (1, 2, 3, 4, 5)\n",
      "After - (1, 2, 3, 4, 5, 6)\n"
     ]
    }
   ],
   "source": [
    "tuple_=(1,2,3,4,5)\n",
    "print(\"Before -\",tuple_)\n",
    "list_=list(tuple_)\n",
    "list_.append(6)\n",
    "tuple_1=tuple(list_)\n",
    "print(\"After -\",tuple_1)"
   ]
  },
  {
   "cell_type": "markdown",
   "id": "28fbb6e3",
   "metadata": {},
   "source": [
    "### 5.Write a Python program to convert a tuple to a string. "
   ]
  },
  {
   "cell_type": "code",
   "execution_count": 1,
   "id": "8b4c80c4",
   "metadata": {},
   "outputs": [
    {
     "name": "stdout",
     "output_type": "stream",
     "text": [
      "I am a good Boy\n"
     ]
    }
   ],
   "source": [
    "tuple_1=('I','am','a','good','Boy')\n",
    "\n",
    "string=\" \".join(tuple_1)\n",
    "print(string)"
   ]
  },
  {
   "cell_type": "markdown",
   "id": "7a31da4a",
   "metadata": {},
   "source": [
    "### 6.Write a Python program to create the colon of a tuple. "
   ]
  },
  {
   "cell_type": "code",
   "execution_count": 2,
   "id": "52e567ca",
   "metadata": {},
   "outputs": [
    {
     "name": "stdout",
     "output_type": "stream",
     "text": [
      "('am', 'a', 'good', 'Boy')\n"
     ]
    }
   ],
   "source": [
    "tuple_1=('I','am','a','good','Boy')\n",
    "colon=tuple_1[1:]\n",
    "print(colon)"
   ]
  },
  {
   "cell_type": "markdown",
   "id": "5f49f00c",
   "metadata": {},
   "source": [
    "### 7.Write a Python program to unpack a tuple in several variables. "
   ]
  },
  {
   "cell_type": "code",
   "execution_count": 4,
   "id": "99f68a51",
   "metadata": {},
   "outputs": [
    {
     "name": "stdout",
     "output_type": "stream",
     "text": [
      "1 2 3\n"
     ]
    }
   ],
   "source": [
    "tuple_1=(1,2,3)\n",
    "x,y,z=tuple_1\n",
    "print(x,y,z)"
   ]
  },
  {
   "cell_type": "markdown",
   "id": "3cf04fc5",
   "metadata": {},
   "source": [
    "### 8.Write a Python program to add member(s) in a set. "
   ]
  },
  {
   "cell_type": "code",
   "execution_count": 5,
   "id": "2030052a",
   "metadata": {},
   "outputs": [
    {
     "name": "stdout",
     "output_type": "stream",
     "text": [
      "{1, 2, 3, 4, 5, 'c', 'd', 's', 'a', 'b'}\n"
     ]
    }
   ],
   "source": [
    "set_1={1,2,3,4,5,'a','b','c','d'}\n",
    "set_1.add('s')\n",
    "print(set_1)"
   ]
  },
  {
   "cell_type": "markdown",
   "id": "bf2ac10a",
   "metadata": {},
   "source": [
    "### 9.Write a Python program to remove item(s) from set "
   ]
  },
  {
   "cell_type": "code",
   "execution_count": 6,
   "id": "bb7a923a",
   "metadata": {},
   "outputs": [
    {
     "name": "stdout",
     "output_type": "stream",
     "text": [
      "{1, 2, 3, 4, 5, 'c', 'd', 'a', 'b'}\n"
     ]
    }
   ],
   "source": [
    "set_1={1, 2, 3, 4, 5, 'c', 'd', 's', 'a', 'b'}\n",
    "set_1.remove('s')\n",
    "print(set_1)"
   ]
  },
  {
   "cell_type": "markdown",
   "id": "e5963a8c",
   "metadata": {},
   "source": [
    "### 10.Write a Python program to create an intersection of sets. "
   ]
  },
  {
   "cell_type": "code",
   "execution_count": 8,
   "id": "91186d40",
   "metadata": {},
   "outputs": [
    {
     "name": "stdout",
     "output_type": "stream",
     "text": [
      "{1, 3, 5, 7, 9}\n"
     ]
    }
   ],
   "source": [
    "set_1={1,2,3,4,5,6,7,8,9}\n",
    "set_2={1,3,5,7,9,11,13,15,17}\n",
    "intersection=set_1&set_2\n",
    "print(intersection)"
   ]
  },
  {
   "cell_type": "markdown",
   "id": "f016f6ec",
   "metadata": {},
   "source": [
    "### 11.Write a Python program to create a union of sets. "
   ]
  },
  {
   "cell_type": "code",
   "execution_count": 9,
   "id": "d86284e2",
   "metadata": {},
   "outputs": [
    {
     "name": "stdout",
     "output_type": "stream",
     "text": [
      "{1, 2, 3, 4, 5, 6, 7, 8, 9, 11, 13, 15, 17}\n"
     ]
    }
   ],
   "source": [
    "set_1={1,2,3,4,5,6,7,8,9}\n",
    "set_2={1,3,5,7,9,11,13,15,17}\n",
    "union=set_1|set_2\n",
    "print(union)"
   ]
  },
  {
   "cell_type": "markdown",
   "id": "5f2d4b72",
   "metadata": {},
   "source": [
    "### 12.Write a Python script to concatenate following dictionaries to create a new one. "
   ]
  },
  {
   "cell_type": "code",
   "execution_count": 12,
   "id": "3797c339",
   "metadata": {},
   "outputs": [
    {
     "name": "stdout",
     "output_type": "stream",
     "text": [
      "{'a': 1, 'b': 2, 'c': 3}\n",
      "{'d': 4, 'e': 5, 'f': 6}\n",
      "After Concatenation\n",
      "{'a': 1, 'b': 2, 'c': 3, 'd': 4, 'e': 5, 'f': 6}\n"
     ]
    }
   ],
   "source": [
    "dictionary_1={'a': 1, 'b': 2, 'c': 3}\n",
    "print(dictionary_1)\n",
    "dictionary_2={'d': 4, 'e': 5, 'f': 6}\n",
    "print(dictionary_2)\n",
    "dictionary_1={}\n",
    "dictionary_3.update(dictionary_1)\n",
    "dictionary_3.update(dictionary_2)\n",
    "print(\"After Concatenation\")\n",
    "print(dictionary_3)"
   ]
  },
  {
   "cell_type": "markdown",
   "id": "1ef283a2",
   "metadata": {},
   "source": [
    "### 13.Write a Python program to map two lists into a dictionary. "
   ]
  },
  {
   "cell_type": "code",
   "execution_count": 13,
   "id": "37f1d4f8",
   "metadata": {},
   "outputs": [
    {
     "name": "stdout",
     "output_type": "stream",
     "text": [
      "{'Name': 'Vikrant Rana', 'Location': 'Delhi', 'Work': 'Data Analyst'}\n"
     ]
    }
   ],
   "source": [
    "list_1=['Name','Location','Work']\n",
    "list_2=['Vikrant Rana','Delhi','Data Analyst']\n",
    "dictionary=dict(zip(list_1,list_2))\n",
    "print(dictionary)"
   ]
  },
  {
   "cell_type": "markdown",
   "id": "2c85c80c",
   "metadata": {},
   "source": [
    "### 14.Write a Python program to sort a dictionary by key. "
   ]
  },
  {
   "cell_type": "code",
   "execution_count": 15,
   "id": "3e5f33a1",
   "metadata": {},
   "outputs": [
    {
     "name": "stdout",
     "output_type": "stream",
     "text": [
      "[(1, 'a'), (2, 'b'), (3, 'c')]\n"
     ]
    }
   ],
   "source": [
    "dictionary_1={1:'a',3:'c',2:'b'}\n",
    "sort_dictionary=sorted(dictionary_1.items())\n",
    "print(sort_dictionary)"
   ]
  },
  {
   "cell_type": "markdown",
   "id": "c04666d1",
   "metadata": {},
   "source": [
    "### 15.Write a Python program to get the maximum and minimum value in a dictionary. "
   ]
  },
  {
   "cell_type": "code",
   "execution_count": 17,
   "id": "c4759544",
   "metadata": {},
   "outputs": [
    {
     "name": "stdout",
     "output_type": "stream",
     "text": [
      "{'a': 1, 'b': 2, 'c': 3, 'd': 4}\n",
      "minimum- 1\n",
      "maximum- 4\n"
     ]
    }
   ],
   "source": [
    "dictionary_1={'a':1,'b':2,'c':3,'d':4}\n",
    "print(dictionary_1)\n",
    "minimum=min(dictionary_1.values())\n",
    "print(\"minimum-\",minimum)\n",
    "maximum=max(dictionary_1.values())\n",
    "print(\"maximum-\",maximum)"
   ]
  },
  {
   "cell_type": "markdown",
   "id": "850ea092",
   "metadata": {},
   "source": [
    "### 16.Write a Python program to clone or copy a list. "
   ]
  },
  {
   "cell_type": "code",
   "execution_count": 19,
   "id": "6d58c6c9",
   "metadata": {},
   "outputs": [
    {
     "name": "stdout",
     "output_type": "stream",
     "text": [
      "Original List - [1, 2, 3, 4, 5, 6, 7, 8, 9]\n",
      "Duplicate List - [1, 2, 3, 4, 5, 6, 7, 8, 9]\n"
     ]
    }
   ],
   "source": [
    "list_1=[1,2,3,4,5,6,7,8,9]\n",
    "print(\"Original List -\",list_1)\n",
    "copy_list=list_1.copy()\n",
    "print(\"Duplicate List -\",copy_list)"
   ]
  },
  {
   "cell_type": "markdown",
   "id": "67e31e68",
   "metadata": {},
   "source": [
    "### 17.Write a Python program to find the list of words that are longer than n from a given list of words."
   ]
  },
  {
   "cell_type": "code",
   "execution_count": 1,
   "id": "dff9abf5",
   "metadata": {},
   "outputs": [
    {
     "name": "stdout",
     "output_type": "stream",
     "text": [
      "['banana', 'cherry', 'daily', 'fundamental']\n"
     ]
    }
   ],
   "source": [
    "listx=['app','banana','cherry','daily','ear','fundamental']\n",
    "length=4\n",
    "\n",
    "listx1=[]\n",
    "for i in listx:\n",
    "    if len(i)>length:\n",
    "        listx1.append(i)\n",
    "        \n",
    "print(listx1)"
   ]
  },
  {
   "cell_type": "markdown",
   "id": "cc230e89",
   "metadata": {},
   "source": [
    "### 18.Write a Python program to unzip a list of tuples into individual lists. "
   ]
  },
  {
   "cell_type": "code",
   "execution_count": 2,
   "id": "d5c6cd4c",
   "metadata": {},
   "outputs": [
    {
     "name": "stdout",
     "output_type": "stream",
     "text": [
      "[[1, 4, 7], [2, 5, 8], [3, 6, 9]]\n"
     ]
    }
   ],
   "source": [
    "tuple_in_list = [(1, 2, 3), (4, 5, 6), (7, 8, 9)]\n",
    "\n",
    "individual_list = []\n",
    "for i in range(len(tuple_in_list[0])):\n",
    "    individual_list.append([j[i] for j in tuple_in_list])\n",
    "\n",
    "print(individual_list)"
   ]
  },
  {
   "cell_type": "markdown",
   "id": "eede9efb",
   "metadata": {},
   "source": [
    "### 19.Write a Python program to reverse a tuple. "
   ]
  },
  {
   "cell_type": "code",
   "execution_count": 4,
   "id": "1d64daad",
   "metadata": {},
   "outputs": [
    {
     "name": "stdout",
     "output_type": "stream",
     "text": [
      "(8, 7, 6, 5, 4, 3, 2, 1)\n"
     ]
    }
   ],
   "source": [
    "tuplex=(1,2,3,4,5,6,7,8)\n",
    "tupley=tuple(reversed(tuplex))\n",
    "print(tupley)"
   ]
  },
  {
   "cell_type": "markdown",
   "id": "5ee63a2f",
   "metadata": {},
   "source": [
    "### 20.Write a Python program to convert a list of tuples into a dictionary. "
   ]
  },
  {
   "cell_type": "code",
   "execution_count": 5,
   "id": "20a383e2",
   "metadata": {},
   "outputs": [
    {
     "name": "stdout",
     "output_type": "stream",
     "text": [
      "{1: 2, 3: 4, 5: 6, 7: 8}\n"
     ]
    }
   ],
   "source": [
    "list_of_tuples = [(1, 2), (3, 4), (5, 6),(7,8)]\n",
    "\n",
    "dictionary = {}\n",
    "for tuple in list_of_tuples:\n",
    "    key, value = tuple\n",
    "    dictionary[key] = value\n",
    "\n",
    "print(dictionary)\n"
   ]
  },
  {
   "cell_type": "markdown",
   "id": "19f4d1a4",
   "metadata": {},
   "source": [
    "### 21.Write a Python program to print a tuple with string formatting. "
   ]
  },
  {
   "cell_type": "code",
   "execution_count": 7,
   "id": "6d1df7a9",
   "metadata": {},
   "outputs": [
    {
     "name": "stdout",
     "output_type": "stream",
     "text": [
      "tuplex is -> (1, 2, 3, 4, 5, 6)\n"
     ]
    }
   ],
   "source": [
    "tuplex=(1,2,3,4,5,6)\n",
    "print(\"tuplex is ->\",format(tuplex))\n"
   ]
  },
  {
   "cell_type": "markdown",
   "id": "e1c385c1",
   "metadata": {},
   "source": [
    "### 22.Write a Python program to create a symmetric difference. "
   ]
  },
  {
   "cell_type": "code",
   "execution_count": 1,
   "id": "6bbb13e8",
   "metadata": {},
   "outputs": [
    {
     "name": "stdout",
     "output_type": "stream",
     "text": [
      "Symmetric Difference: {1, 2, 5, 6}\n"
     ]
    }
   ],
   "source": [
    "def symmetric_difference(set1, set2):\n",
    "    return set1 ^ set2\n",
    "\n",
    "\n",
    "set_a = {1, 2, 3, 4}\n",
    "set_b = {3, 4, 5, 6}\n",
    "\n",
    "symmetric_diff = symmetric_difference(set_a, set_b)\n",
    "print(\"Symmetric Difference:\", symmetric_diff)"
   ]
  },
  {
   "cell_type": "markdown",
   "id": "ac0956cc",
   "metadata": {},
   "source": [
    "### 23.Write a Python program to check if a given value is present in a set or not. "
   ]
  },
  {
   "cell_type": "code",
   "execution_count": 10,
   "id": "88cbacc2",
   "metadata": {},
   "outputs": [
    {
     "name": "stdout",
     "output_type": "stream",
     "text": [
      "Enter the value you want to find ->11\n",
      "11 is not present in setx.\n"
     ]
    }
   ],
   "source": [
    "setx={1,2,3,4,5,6,7,8,9,0}\n",
    "find_value=int(input(\"Enter the value you want to find ->\"))\n",
    "if find_value in setx:\n",
    "    print(find_value,\"is present in setx.\")\n",
    "\n",
    "else:\n",
    "    print(find_value,'is not present in setx.')"
   ]
  },
  {
   "cell_type": "markdown",
   "id": "68c62628",
   "metadata": {},
   "source": [
    "### 24.Write a Python program to check if a given set is superset of itself and superset of another given set. "
   ]
  },
  {
   "cell_type": "code",
   "execution_count": 11,
   "id": "2c9d02ae",
   "metadata": {},
   "outputs": [
    {
     "name": "stdout",
     "output_type": "stream",
     "text": [
      "True\n"
     ]
    }
   ],
   "source": [
    "setx={1,2,3,4,5,6,7,8}\n",
    "sety={1,3,5,7}\n",
    "superset=setx>=sety\n",
    "print(superset)"
   ]
  },
  {
   "cell_type": "markdown",
   "id": "46ac9533",
   "metadata": {},
   "source": [
    "### 25.Write a Python program to check a given set has no elements in common with other given set. "
   ]
  },
  {
   "cell_type": "code",
   "execution_count": 12,
   "id": "37218716",
   "metadata": {},
   "outputs": [
    {
     "name": "stdout",
     "output_type": "stream",
     "text": [
      "True\n"
     ]
    }
   ],
   "source": [
    "setx = {1, 2, 3, 4, 5}\n",
    "sety = {6, 7, 8, 9, 10}\n",
    "\n",
    "common = setx.isdisjoint(sety)\n",
    "\n",
    "print(common)\n"
   ]
  },
  {
   "cell_type": "markdown",
   "id": "9f0604c3",
   "metadata": {},
   "source": [
    "### 26.Write a Python program to remove the intersection of a 2nd set from the 1st set."
   ]
  },
  {
   "cell_type": "code",
   "execution_count": 13,
   "id": "daf7649c",
   "metadata": {},
   "outputs": [
    {
     "name": "stdout",
     "output_type": "stream",
     "text": [
      "{1, 2}\n"
     ]
    }
   ],
   "source": [
    "setx = {1, 2, 3, 4, 5}\n",
    "sety = {3, 4, 5}\n",
    "\n",
    "setx -= sety\n",
    "\n",
    "print(setx)\n"
   ]
  },
  {
   "cell_type": "markdown",
   "id": "e3471125",
   "metadata": {},
   "source": [
    "### 27.Write a Python program to remove duplicates from Dictionary. "
   ]
  },
  {
   "cell_type": "code",
   "execution_count": 14,
   "id": "97261188",
   "metadata": {},
   "outputs": [
    {
     "name": "stdout",
     "output_type": "stream",
     "text": [
      "{'a': 4, 'b': 5, 'c': 3}\n"
     ]
    }
   ],
   "source": [
    "dictionaryx = {'a': 1, 'b': 2, 'c': 3, 'a': 4, 'b': 5}\n",
    "duplicate = {}\n",
    "\n",
    "for key, value in dictionaryx.items():\n",
    "    if value not in duplicate.values():\n",
    "        duplicate[key] = value\n",
    "\n",
    "print(duplicate)\n"
   ]
  },
  {
   "cell_type": "markdown",
   "id": "2b732f1b",
   "metadata": {},
   "source": [
    "### 28.Write a Python script to check whether a given key already exists in a dictionary. "
   ]
  },
  {
   "cell_type": "code",
   "execution_count": 17,
   "id": "0adb21d1",
   "metadata": {},
   "outputs": [
    {
     "name": "stdout",
     "output_type": "stream",
     "text": [
      "Enter the Key ->d\n",
      "False\n"
     ]
    }
   ],
   "source": [
    "dictionaryx = {'a': 1, 'b': 2, 'c': 3}\n",
    "key = input(\"Enter the Key ->\")\n",
    "already_exists = key in dictionaryx\n",
    "print(already_exists)\n"
   ]
  },
  {
   "cell_type": "markdown",
   "id": "1be56026",
   "metadata": {},
   "source": [
    "### 29.Write a Python program to sum all the items in a dictionary. "
   ]
  },
  {
   "cell_type": "code",
   "execution_count": 20,
   "id": "76d364d2",
   "metadata": {},
   "outputs": [
    {
     "name": "stdout",
     "output_type": "stream",
     "text": [
      "Enter the value1 -->1\n",
      "Enter the value2 -->2\n",
      "Enter the value3 -->3\n",
      "6\n"
     ]
    }
   ],
   "source": [
    "dictionaryx = {'a': int(input(\"Enter the value1 -->\")), 'b': int(input(\"Enter the value2 -->\")), 'c': int(input(\"Enter the value3 -->\"))}\n",
    "sum_of_items = 0\n",
    "for key, value in dictionaryx.items():\n",
    "    sum_of_items =sum_of_items + value\n",
    "print(sum_of_items)\n"
   ]
  },
  {
   "cell_type": "markdown",
   "id": "da5aa8fe",
   "metadata": {},
   "source": [
    "### 30.Write a Python program to multiply all the items in a dictionary. "
   ]
  },
  {
   "cell_type": "code",
   "execution_count": 22,
   "id": "9136689c",
   "metadata": {},
   "outputs": [
    {
     "name": "stdout",
     "output_type": "stream",
     "text": [
      "Enter the value1 -->2\n",
      "Enter the value2 -->3\n",
      "Enter the value3 -->4\n",
      "24\n"
     ]
    }
   ],
   "source": [
    "dictionaryx = {'a': int(input(\"Enter the value1 -->\")), 'b': int(input(\"Enter the value2 -->\")), 'c': int(input(\"Enter the value3 -->\"))}\n",
    "multiply_of_items = 1\n",
    "for key, value in dictionaryx.items():\n",
    "    multiply_of_items =multiply_of_items * value\n",
    "print(multiply_of_items)\n"
   ]
  },
  {
   "cell_type": "markdown",
   "id": "483d0bd1",
   "metadata": {},
   "source": [
    "### 31.Write a Python program to remove a key from a dictionary."
   ]
  },
  {
   "cell_type": "code",
   "execution_count": 26,
   "id": "e959b24a",
   "metadata": {},
   "outputs": [
    {
     "name": "stdout",
     "output_type": "stream",
     "text": [
      "Enter the key -->a\n",
      "{'b': 2, 'c': 3}\n"
     ]
    }
   ],
   "source": [
    "dictionaryx = {'a': 1, 'b': 2, 'c': 3}\n",
    "remove_key = input(\"Enter the key -->\")\n",
    "dictionaryx.pop(remove_key)\n",
    "print(dictionaryx)"
   ]
  },
  {
   "cell_type": "code",
   "execution_count": null,
   "id": "c8f49a77",
   "metadata": {},
   "outputs": [],
   "source": []
  }
 ],
 "metadata": {
  "kernelspec": {
   "display_name": "Python 3 (ipykernel)",
   "language": "python",
   "name": "python3"
  },
  "language_info": {
   "codemirror_mode": {
    "name": "ipython",
    "version": 3
   },
   "file_extension": ".py",
   "mimetype": "text/x-python",
   "name": "python",
   "nbconvert_exporter": "python",
   "pygments_lexer": "ipython3",
   "version": "3.10.9"
  }
 },
 "nbformat": 4,
 "nbformat_minor": 5
}
