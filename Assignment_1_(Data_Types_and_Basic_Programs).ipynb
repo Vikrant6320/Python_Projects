{
 "cells": [
  {
   "cell_type": "markdown",
   "id": "9cacd9e4",
   "metadata": {
    "id": "9cacd9e4"
   },
   "source": [
    "# Data Types & Basic Programs\n",
    "- Write solution of each question in the cell given below the corresponsing question."
   ]
  },
  {
   "cell_type": "markdown",
   "id": "a36a3683",
   "metadata": {
    "id": "a36a3683"
   },
   "source": [
    "#### 1. Write a program to take principal amount, rate and interest as input and calculate simple interest."
   ]
  },
  {
   "cell_type": "code",
   "execution_count": 1,
   "id": "iyGa2yN7bkZL",
   "metadata": {
    "colab": {
     "base_uri": "https://localhost:8080/",
     "height": 130
    },
    "id": "iyGa2yN7bkZL",
    "outputId": "43c86045-073b-48a6-b7fb-8895e19b4b9c"
   },
   "outputs": [
    {
     "name": "stdout",
     "output_type": "stream",
     "text": [
      "Enter the principal amount: 1000\n",
      "Enter the rate of interest (in percentage): 2\n",
      "Enter the time period (in years): 2\n",
      "Simple Interest = 40.0\n"
     ]
    }
   ],
   "source": [
    "principal = int(input(\"Enter the principal amount: \"))\n",
    "rate = int(input(\"Enter the rate of interest (in percentage): \"))\n",
    "time = int(input(\"Enter the time period (in years): \"))\n",
    "\n",
    "interest=(principal*rate*time)/100\n",
    "\n",
    "print(\"Simple Interest =\",interest)\n"
   ]
  },
  {
   "cell_type": "markdown",
   "id": "3a9994e0",
   "metadata": {
    "id": "3a9994e0"
   },
   "source": [
    "#### 2. Write a program that takes a string as input and prints the number of words in the string."
   ]
  },
  {
   "cell_type": "code",
   "execution_count": 11,
   "id": "9VbTZFFQfHCm",
   "metadata": {
    "id": "9VbTZFFQfHCm"
   },
   "outputs": [
    {
     "name": "stdout",
     "output_type": "stream",
     "text": [
      "Enter the Word -->Vikrant\n",
      "Number of Words = 7\n"
     ]
    }
   ],
   "source": [
    "a=input(\"Enter the Word -->\")\n",
    "b=len(a)\n",
    "print(\"Number of Words =\",b)\n"
   ]
  },
  {
   "cell_type": "markdown",
   "id": "8a8d5e27",
   "metadata": {
    "id": "8a8d5e27"
   },
   "source": [
    "#### 3. Write a program to take a list of numbers as input (in a single line) and print the sum, avg, max and min elements."
   ]
  },
  {
   "cell_type": "code",
   "execution_count": 1,
   "id": "OUlGO6fiVlU7",
   "metadata": {
    "id": "OUlGO6fiVlU7"
   },
   "outputs": [
    {
     "name": "stdout",
     "output_type": "stream",
     "text": [
      "Enter the number --> 2 3 4 5\n",
      "List: [2, 3, 4, 5]\n",
      "Sum ->  14\n",
      "Average ->  3.5\n",
      "Maximum ->  5\n",
      "Minimum ->  2\n"
     ]
    }
   ],
   "source": [
    "xlist = list(map(int, input(\"Enter the number --> \").split()))\n",
    "\n",
    "\n",
    "print(\"List:\", xlist)\n",
    "\n",
    "Total=sum(xlist)\n",
    "print(\"Sum -> \",Total)\n",
    "\n",
    "Average=Total/len(xlist)\n",
    "print(\"Average -> \",Average)\n",
    "\n",
    "maximum=max(xlist)\n",
    "print(\"Maximum -> \",maximum)\n",
    "\n",
    "minimum = min(xlist)\n",
    "print(\"Minimum -> \",minimum)"
   ]
  },
  {
   "cell_type": "markdown",
   "id": "17dbd6e8",
   "metadata": {
    "id": "17dbd6e8"
   },
   "source": [
    "#### 4. Write a program to take the marks of 3 students in five subjects each as a list (one list for each input) as input and print the average score of each student.."
   ]
  },
  {
   "cell_type": "code",
   "execution_count": 10,
   "id": "666f4fbb",
   "metadata": {
    "id": "BTd2sM7i9sui"
   },
   "outputs": [
    {
     "name": "stdout",
     "output_type": "stream",
     "text": [
      "Enter marks of student 1 in subject 1: 12\n",
      "Enter marks of student 1 in subject 2: 21\n",
      "Enter marks of student 1 in subject 3: 32\n",
      "Enter marks of student 1 in subject 4: 43\n",
      "Enter marks of student 1 in subject 5: 54\n",
      "Average score of student 1: 32.40\n",
      "Enter marks of student 2 in subject 1: 54\n",
      "Enter marks of student 2 in subject 2: 65\n",
      "Enter marks of student 2 in subject 3: 76\n",
      "Enter marks of student 2 in subject 4: 87\n",
      "Enter marks of student 2 in subject 5: 98\n",
      "Average score of student 2: 76.00\n",
      "Enter marks of student 3 in subject 1: 34\n",
      "Enter marks of student 3 in subject 2: 56\n",
      "Enter marks of student 3 in subject 3: 778\n",
      "Enter marks of student 3 in subject 4: 90\n",
      "Enter marks of student 3 in subject 5: 65\n",
      "Average score of student 3: 204.60\n"
     ]
    }
   ],
   "source": [
    "student = 3\n",
    "subject = 5\n",
    "\n",
    "for i in range(1, student + 1):\n",
    "    totalmarks = 0\n",
    "    for j in range(1, subject + 1):\n",
    "        marks = int(input(f\"Enter marks of student {i} in subject {j}: \"))\n",
    "        totalmarks =totalmarks+ marks\n",
    "\n",
    "    averagescore = totalmarks /subject\n",
    "    print(f\"Average score of student {i}: {averagescore:.2f}\")\n"
   ]
  },
  {
   "cell_type": "markdown",
   "id": "39fb8526",
   "metadata": {
    "id": "39fb8526"
   },
   "source": [
    "#### 5. Write a program to take a list as input containing results of 10 coin tosses as 'H' or 'T'. Jon gets a point for each 'T' and Tom gets a point for each 'H'. print the points recieved by both."
   ]
  },
  {
   "cell_type": "code",
   "execution_count": 25,
   "id": "Ijvfc63fHr8B",
   "metadata": {
    "id": "Ijvfc63fHr8B"
   },
   "outputs": [
    {
     "name": "stdout",
     "output_type": "stream",
     "text": [
      "Enter the results of 10 coin tosses (use 'H' for heads and 'T' for tails): H\n",
      "Points by a: 1\n",
      "Points by b: 0\n"
     ]
    }
   ],
   "source": [
    "def main():\n",
    "    tossresults = input(\"Enter the results of 10 coin tosses (use 'H' for heads and 'T' for tails): \")\n",
    "\n",
    "    ap = 0\n",
    "    bp = 0\n",
    "\n",
    "    for result in tossresults:\n",
    "        if result == 'H':\n",
    "            ap =ap + 1\n",
    "        elif result == 'T':\n",
    "            ap =ap + 1\n",
    "            \n",
    "\n",
    "    print(\"Points by a:\", ap)\n",
    "    print(\"Points by b:\", bp)\n",
    "\n",
    "if __name__ == \"__main__\":\n",
    "    main()\n",
    "\n",
    "\n",
    "\n",
    "\n",
    "\n",
    "\n"
   ]
  },
  {
   "cell_type": "markdown",
   "id": "4a6dc391",
   "metadata": {
    "id": "4a6dc391"
   },
   "source": [
    "#### 6. Take two numbers as input and print the result after swapping them. (Without using multiple assignment and any extra variable)."
   ]
  },
  {
   "cell_type": "code",
   "execution_count": 26,
   "id": "oiSoXznqZbC_",
   "metadata": {
    "id": "oiSoXznqZbC_"
   },
   "outputs": [
    {
     "name": "stdout",
     "output_type": "stream",
     "text": [
      "Enter the Number -> 2\n",
      "Enter the Number -> 3\n",
      "2\n",
      "3\n",
      "After Swaping\n",
      "3\n",
      "2\n"
     ]
    }
   ],
   "source": [
    "a=int(input(\"Enter the Number -> \"))\n",
    "b=int(input(\"Enter the Number -> \"))\n",
    "\n",
    "print(a)\n",
    "print(b)\n",
    "print(\"After Swaping\")\n",
    "a,b=b,a\n",
    "\n",
    "print(a)\n",
    "print(b)"
   ]
  },
  {
   "cell_type": "markdown",
   "id": "b0059e36",
   "metadata": {
    "id": "b0059e36"
   },
   "source": [
    "#### 7. Take a list as input in a single line containing 10 numbers as marks out of 100. The even positions in the list are marks of Tom and the odd positions are the marks of Jon. Calculate the average marks of both."
   ]
  },
  {
   "cell_type": "code",
   "execution_count": 29,
   "id": "dzK-bSIM6rh6",
   "metadata": {
    "id": "dzK-bSIM6rh6"
   },
   "outputs": [
    {
     "name": "stdout",
     "output_type": "stream",
     "text": [
      "Enter the number->1 -> 12\n",
      "Enter the number->2 -> 23\n",
      "Enter the number->3 -> 34\n",
      "Enter the number->4 -> 45\n",
      "Enter the number->5 -> 56\n",
      "Enter the number->6 -> 67\n",
      "Enter the number->7 -> 78\n",
      "Enter the number->8 -> 89\n",
      "Enter the number->9 -> 90\n",
      "Enter the number->10 -> 87\n",
      "Marks [12, 23, 34, 45, 56, 67, 78, 89, 90, 87]\n",
      "Tom Marks -> [12, 34, 56, 78, 90]\n",
      "Average for Tom Marks -> 54.0\n",
      "Jon Marks -> [23, 45, 67, 89, 87]\n",
      "Average for Jon Marks -> 62.2\n"
     ]
    }
   ],
   "source": [
    "marks=[]\n",
    "for i in range(10):\n",
    "    num=int(input(f\"Enter the number->{i+1} -> \"))\n",
    "    marks.append(num)\n",
    "print(\"Marks\",marks)\n",
    "\n",
    "Tom_marks = []\n",
    "for num in marks:\n",
    "    if num%2==0:\n",
    "        Tom_marks.append(num)\n",
    "print(\"Tom Marks ->\",Tom_marks)\n",
    "avg=sum(Tom_marks)/len(Tom_marks)\n",
    "print(\"Average for Tom Marks ->\",avg)\n",
    "\n",
    "Jon_marks = []\n",
    "for num in marks:\n",
    "    if num%2!=0:\n",
    "        Jon_marks.append(num)\n",
    "print(\"Jon Marks ->\",Jon_marks)\n",
    "Avg=sum(Jon_marks)/len(Jon_marks)\n",
    "print(\"Average for Jon Marks ->\",Avg)"
   ]
  },
  {
   "cell_type": "markdown",
   "id": "f07dab7c",
   "metadata": {
    "id": "f07dab7c"
   },
   "source": [
    "#### 8. Take a string and a character as input. Print the result having the character between each word of the given string."
   ]
  },
  {
   "cell_type": "code",
   "execution_count": 3,
   "id": "Bak8JEWdAAFv",
   "metadata": {
    "id": "Bak8JEWdAAFv"
   },
   "outputs": [
    {
     "name": "stdout",
     "output_type": "stream",
     "text": [
      "Enter a string: Vikrant Rana\n",
      "Enter a character: =\n",
      "Result: Vikrant=Rana\n"
     ]
    }
   ],
   "source": [
    "string = input(\"Enter a string: \")\n",
    "character = input(\"Enter a character: \")\n",
    "\n",
    "listx = string.split()\n",
    "\n",
    "result = character.join(listx)\n",
    "\n",
    "print(\"Result:\", result)\n"
   ]
  },
  {
   "cell_type": "markdown",
   "id": "a45320b7",
   "metadata": {
    "id": "a45320b7"
   },
   "source": [
    "#### 9. Create a dictionary having three items. Key of each item is the name of a student, value associated with each key is a list of marks in five subjects. Given this dictionary print the average score of each student."
   ]
  },
  {
   "cell_type": "code",
   "execution_count": 5,
   "id": "_WpSWzXdLyri",
   "metadata": {
    "id": "_WpSWzXdLyri"
   },
   "outputs": [
    {
     "name": "stdout",
     "output_type": "stream",
     "text": [
      "Average score of Vikrant: 76.20\n",
      "Average score of Kapil: 69.00\n",
      "Average score of Ravi: 76.00\n"
     ]
    }
   ],
   "source": [
    "Studentwisemarks = {\n",
    "    \"Vikrant\": [78,85,98,75,45],\n",
    "    \"Kapil\": [52,98,65,45,85],\n",
    "    \"Ravi\": [62,85,95,62,76]\n",
    "}\n",
    "\n",
    "\n",
    "for student, marks in Studentwisemarks.items():\n",
    "    averagemarks = sum(marks) / len(marks)\n",
    "    print(f\"Average score of {student}: {averagemarks:.2f}\")\n"
   ]
  },
  {
   "cell_type": "markdown",
   "id": "aba63bd1",
   "metadata": {
    "id": "aba63bd1"
   },
   "source": [
    "#### 10. Take a string as input(may contain repetitive words), print a list consisting of unique words from the given string."
   ]
  },
  {
   "cell_type": "code",
   "execution_count": 9,
   "id": "Wrc5hOBIF-ww",
   "metadata": {
    "id": "Wrc5hOBIF-ww"
   },
   "outputs": [
    {
     "name": "stdout",
     "output_type": "stream",
     "text": [
      "Enter a string: a b c d e f g h a e \n",
      "Unique words list: ['a', 'b', 'c', 'd', 'e', 'f', 'g', 'h']\n"
     ]
    }
   ],
   "source": [
    "a = input(\"Enter a string: \")\n",
    "\n",
    "listx = a.split()\n",
    "\n",
    "unique = set(listx)\n",
    "\n",
    "uniquelist= sorted(list(unique))\n",
    "\n",
    "print(\"Unique words list:\", uniquelist)"
   ]
  },
  {
   "cell_type": "code",
   "execution_count": null,
   "id": "a84876e2",
   "metadata": {},
   "outputs": [],
   "source": []
  }
 ],
 "metadata": {
  "colab": {
   "provenance": []
  },
  "kernelspec": {
   "display_name": "Python 3 (ipykernel)",
   "language": "python",
   "name": "python3"
  },
  "language_info": {
   "codemirror_mode": {
    "name": "ipython",
    "version": 3
   },
   "file_extension": ".py",
   "mimetype": "text/x-python",
   "name": "python",
   "nbconvert_exporter": "python",
   "pygments_lexer": "ipython3",
   "version": "3.10.9"
  }
 },
 "nbformat": 4,
 "nbformat_minor": 5
}
