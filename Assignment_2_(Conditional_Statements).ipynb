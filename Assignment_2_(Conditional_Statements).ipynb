{
 "cells": [
  {
   "cell_type": "markdown",
   "id": "3a10df7a",
   "metadata": {
    "id": "3a10df7a"
   },
   "source": [
    "# Conditional Statements\n",
    "- Write solution of each question in the cell given below the corresponsing question."
   ]
  },
  {
   "cell_type": "markdown",
   "id": "60c2d89a",
   "metadata": {
    "id": "60c2d89a"
   },
   "source": [
    "#### 1. Take a list of numbers as input. Print whether the average is even or odd."
   ]
  },
  {
   "cell_type": "code",
   "execution_count": 10,
   "id": "Fh5bSu8vCRWU",
   "metadata": {
    "id": "Fh5bSu8vCRWU"
   },
   "outputs": [
    {
     "name": "stdout",
     "output_type": "stream",
     "text": [
      "Enter the number --> 2 3 4 5\n",
      "[2, 3, 4, 5]\n",
      "The Average is Odd 3.5\n"
     ]
    }
   ],
   "source": [
    "ylist=list(map(int, input(\"Enter the number --> \").split()))\n",
    "\n",
    "print(ylist)\n",
    "\n",
    "total=sum(ylist)\n",
    "\n",
    "average=total/len(ylist)\n",
    "\n",
    "if average%2==0:\n",
    "    print(\"The Average is Even\",average)\n",
    "elif average%2!=0:\n",
    "    print(\"The Average is Odd\",average)"
   ]
  },
  {
   "cell_type": "markdown",
   "id": "4846bb19",
   "metadata": {
    "id": "4846bb19"
   },
   "source": [
    "#### 2. Take three strings as input. Calculate the number of words in each string and find out the list having highest number of words."
   ]
  },
  {
   "cell_type": "code",
   "execution_count": null,
   "id": "pfGpZ9okCTfV",
   "metadata": {
    "id": "pfGpZ9okCTfV"
   },
   "outputs": [
    {
     "name": "stdout",
     "output_type": "stream",
     "text": [
      "Enter the first string--> vikrant is a bad guy\n",
      "Enter the second string--> hitesh is a good trainer\n"
     ]
    }
   ],
   "source": [
    "a = input(\"Enter the first string--> \")\n",
    "b = input(\"Enter the second string--> \")\n",
    "c = input(\"Enter the third string--> \")\n",
    "\n",
    "def countwords(string):\n",
    "    words = string.split()\n",
    "    return len(words)\n",
    "\n",
    "x = countwords(a)\n",
    "y = countwords(b)\n",
    "z = countwords(c)\n",
    "\n",
    "stringsandcounts = [(a,x),(b,y),(c,z)]\n",
    "\n",
    "maximum = max(stringsandcounts, key=lambda x: x[1])\n",
    "\n",
    "print(\"Number of words in each string:\")\n",
    "print(\"String 1-->\",x,\" words\")\n",
    "print(f\"String 2-->\" ,y,\" words\")\n",
    "print(f\"String 3-->\",z,\" words\")\n",
    "\n",
    "print(\"String with the highest number of words -->\",maximum[0])\n"
   ]
  },
  {
   "cell_type": "markdown",
   "id": "0e0d8196",
   "metadata": {
    "id": "0e0d8196"
   },
   "source": [
    "#### 3. Take four numbers as input in a single line. Find out the largest number."
   ]
  },
  {
   "cell_type": "code",
   "execution_count": 5,
   "id": "Fc_7ETl1CVMu",
   "metadata": {
    "id": "Fc_7ETl1CVMu"
   },
   "outputs": [
    {
     "name": "stdout",
     "output_type": "stream",
     "text": [
      "Enter the number ->1-->45\n",
      "Enter the number ->2-->654\n",
      "Enter the number ->3-->546\n",
      "Enter the number ->4-->674\n",
      "List --> [45, 654, 546, 674]\n",
      "Largest Number of the list --> 674\n"
     ]
    }
   ],
   "source": [
    "ab=[]\n",
    "for i in range(4):\n",
    "    n=int(input(f\"Enter the number ->{i+1}-->\"))\n",
    "    ab.append(n)\n",
    "print(\"List -->\",ab)                \n",
    "x=max(ab)\n",
    "print(\"Largest Number of the list -->\",x)\n"
   ]
  },
  {
   "cell_type": "markdown",
   "id": "16c0440a",
   "metadata": {
    "id": "16c0440a"
   },
   "source": [
    "#### 4. Take four numbers as input and find the second largest numer."
   ]
  },
  {
   "cell_type": "code",
   "execution_count": 9,
   "id": "RuBQfFAHWAlL",
   "metadata": {
    "id": "RuBQfFAHWAlL"
   },
   "outputs": [
    {
     "name": "stdout",
     "output_type": "stream",
     "text": [
      "Enter the number ->1-->45\n",
      "Enter the number ->2-->78\n",
      "Enter the number ->3-->65\n",
      "Enter the number ->4-->15\n",
      "Second largest Number of the list --> 65\n"
     ]
    }
   ],
   "source": [
    "yz=[]\n",
    "for i in range(4):\n",
    "    m=int(input(f\"Enter the number ->{i+1}-->\"))\n",
    "    yz.append(m)\n",
    "l =yz[0]\n",
    "sl =yz[1]\n",
    "\n",
    "for i in yz:\n",
    "    if i>l:\n",
    "        sl=l\n",
    "        l=i\n",
    "    elif i>sl:\n",
    "        sl=i\n",
    "\n",
    "print(\"Second largest Number of the list -->\",sl)\n",
    "   "
   ]
  },
  {
   "cell_type": "markdown",
   "id": "2f6641a4",
   "metadata": {
    "id": "2f6641a4"
   },
   "source": [
    "#### 5. Create a dictionary having three items. Key of each item is the name of a student, value associated with each key is a list of marks in five subjects. Given this dictionary print the top and lowest scorers."
   ]
  },
  {
   "cell_type": "code",
   "execution_count": 11,
   "id": "R5C1C61OYuls",
   "metadata": {
    "id": "R5C1C61OYuls"
   },
   "outputs": [
    {
     "name": "stdout",
     "output_type": "stream",
     "text": [
      "Student marks dictionary: {'Tom': [89, 98, 45, 67, 89], 'Jon': [92, 41, 43, 66, 87], 'Bob': [67, 53, 89, 89, 34]}\n",
      "Total marks for each student: {'Tom': 388, 'Jon': 329, 'Bob': 332}\n",
      "Top scorer: Tom\n",
      "Lowest scorer: Jon\n"
     ]
    }
   ],
   "source": [
    "students={'Tom':[89,98,45,67,89], 'Jon':[92,41,43,66,87], 'Bob':[67,53,89,89,34]}\n",
    "\n",
    "\n",
    "totalmarks = {name: sum(marks) for name, marks in students.items()}\n",
    "\n",
    "Highest= max(totalmarks, key=totalmarks.get)\n",
    "lowest = min(totalmarks, key=totalmarks.get)\n",
    "\n",
    "print(\"Student marks dictionary:\", students)\n",
    "print(\"Total marks for each student:\", totalmarks)\n",
    "print(\"Top scorer:\", Highest)\n",
    "print(\"Lowest scorer:\", lowest )\n",
    "\n",
    "\n",
    "\n"
   ]
  },
  {
   "cell_type": "markdown",
   "id": "64db0791",
   "metadata": {
    "id": "64db0791"
   },
   "source": [
    "#### 6. Create a dictionary (called data) of having at least 5 items : Usernames as keys and Passwords as values. Write a program that takes a username and a password as input. If the credentials match any iteam in the given dictionary data then print acces granted otherwise print whether username, password or both are wrong."
   ]
  },
  {
   "cell_type": "code",
   "execution_count": 12,
   "id": "WtqLAvhiazaM",
   "metadata": {
    "id": "WtqLAvhiazaM"
   },
   "outputs": [
    {
     "name": "stdout",
     "output_type": "stream",
     "text": [
      "Enter your username: vikrant\n",
      "Enter your password: vikrant000\n",
      "Wrong password.\n"
     ]
    }
   ],
   "source": [
    "data = {'vikrant':'vikrant123','jai':'jai000','kapil':'kapil321','ravi':'ravi987','ankit':'ankit098'}\n",
    "name = input(\"Enter your username: \").lower()  \n",
    "password = input(\"Enter your password: \")\n",
    "\n",
    "if name in data and data[name] == password:\n",
    "    print(\"Access granted!\")\n",
    "else:\n",
    "    if name not in data and password not in data.values():\n",
    "        print(\"Both username and password are wrong.\")\n",
    "    elif name not in data:\n",
    "        print(\"Invalid username.\")\n",
    "    else:\n",
    "        print(\"Wrong password.\")\n"
   ]
  },
  {
   "cell_type": "markdown",
   "id": "27c56bb8",
   "metadata": {
    "id": "27c56bb8"
   },
   "source": [
    "#### 7. Take a list as input in a single line containing 15 numbers as marks out of 100. The first five numbers in the list are marks of Tom, the middle 5 numbers are marks of Bob and the last 5 are the marks of Jon. Find out the top and lowest scorer."
   ]
  },
  {
   "cell_type": "code",
   "execution_count": null,
   "id": "ah156U4T9iat",
   "metadata": {
    "id": "ah156U4T9iat"
   },
   "outputs": [],
   "source": [
    "xy=[]\n",
    "for i in range(15):\n",
    "    a=int(input(f\"Enter the number ->{i+1}-->\"))\n",
    "    if a<100:\n",
    "        i=i+1\n",
    "    else:\n",
    "        print(\"Wrong Number\")\n",
    "        i=i+0\n",
    "       \n",
    "    xy.append(a)\n",
    "    \n",
    "marksoftom=xy[:5]\n",
    "marksofbob=xy[5:10]\n",
    "marksofjon=xy[10:]\n",
    "\n",
    "print(\"Tom Marks-->\",marksoftom)\n",
    "print(\"Bob Marks-->\",marksofbob)\n",
    "print(\"Jon Marks-->\",marksofjon)\n",
    "\n",
    "totaloftom=sum(marksoftom)\n",
    "totalofbob=sum(marksofbob)\n",
    "totalofjon=sum(marksofjon)\n",
    "\n",
    "top=max(totaloftom,totalofbob,totalofjon)\n",
    "lowest=min(totaloftom,totalofbob,totalofjon)\n",
    "\n",
    "print(\"Highest Numbers-->\",top)\n",
    "print(\"Lowest Numbers-->\",lowest)\n",
    "\n"
   ]
  },
  {
   "cell_type": "markdown",
   "id": "20f59542",
   "metadata": {
    "id": "20f59542"
   },
   "source": [
    "#### 8. Take a number as input and print whether the number is a multiple of 3,5 or both."
   ]
  },
  {
   "cell_type": "code",
   "execution_count": 22,
   "id": "otWg3MXaYing",
   "metadata": {
    "id": "otWg3MXaYing"
   },
   "outputs": [
    {
     "name": "stdout",
     "output_type": "stream",
     "text": [
      "Enter the Number -->52\n",
      "52 is not divisible by 3 and 5\n"
     ]
    }
   ],
   "source": [
    "abc=int(input(\"Enter the Number -->\"))\n",
    "\n",
    "if abc%3==0 and abc%5==0:\n",
    "    print(abc,\"is divisible by 3 and 5\")\n",
    "else:\n",
    "    print(abc,\"is not divisible by 3 and 5\")"
   ]
  },
  {
   "cell_type": "markdown",
   "id": "b770e791",
   "metadata": {
    "id": "b770e791"
   },
   "source": [
    "#### 9. Write a program to take three strings as input and print the string having second largest number of words."
   ]
  },
  {
   "cell_type": "code",
   "execution_count": 4,
   "id": "41f74086",
   "metadata": {},
   "outputs": [
    {
     "name": "stdout",
     "output_type": "stream",
     "text": [
      "Enter the string1 ->hitesh\n",
      "Enter the string2 ->ajay\n",
      "Enter the string3 ->vikrant\n",
      "String with seconds largest nos of words hitesh\n"
     ]
    }
   ],
   "source": [
    "def count_words(string):\n",
    "    return len(string.split())\n",
    "\n",
    "\n",
    "def second_largest_words(str1 , str2 , str3):\n",
    "    strings = [str1 , str2 , str3]\n",
    "    words_counts = [count_words(s) for s in strings]\n",
    "    sorted_strings = sorted(zip(strings , words_counts) , key = lambda x:x[0] , reverse = True)\n",
    "    return sorted_strings[1][0]\n",
    "\n",
    "\n",
    "\n",
    "\n",
    "str1=input(\"Enter the string1 ->\")\n",
    "str2=input(\"Enter the string2 ->\")\n",
    "str3=input(\"Enter the string3 ->\")\n",
    "\n",
    "\n",
    "\n",
    "\n",
    "result = second_largest_words(str1 , str2 , str3)\n",
    "print(\"String with seconds largest nos of words\" , result)\n"
   ]
  },
  {
   "cell_type": "code",
   "execution_count": 6,
   "id": "c668ef59",
   "metadata": {},
   "outputs": [
    {
     "name": "stdout",
     "output_type": "stream",
     "text": [
      "Enter the string1 ->hitesh\n",
      "Enter the string2 ->ajay\n",
      "Enter the string3 ->vikrant\n",
      "String with seconds largest nos of words hitesh\n"
     ]
    }
   ],
   "source": [
    "def count_words(string):\n",
    "    return len(string.split())\n",
    "\n",
    "\n",
    "def second_largest_words(str1 , str2 , str3):\n",
    "    strings = [str1 , str2 , str3]\n",
    "    words_counts = {s :count_words(s) for s in strings}\n",
    "    sorted_strings = sorted(words_counts.items() , key = lambda x:x[0] , reverse = True)\n",
    "    return sorted_strings[1][0]\n",
    "\n",
    "\n",
    "\n",
    "\n",
    "str1=input(\"Enter the string1 ->\")\n",
    "str2=input(\"Enter the string2 ->\")\n",
    "str3=input(\"Enter the string3 ->\")\n",
    "\n",
    "\n",
    "\n",
    "\n",
    "result = second_largest_words(str1 , str2 , str3)\n",
    "print(\"String with seconds largest nos of words\" , result)"
   ]
  },
  {
   "cell_type": "markdown",
   "id": "5a485c8c",
   "metadata": {
    "id": "5a485c8c"
   },
   "source": [
    "#### 10. Write a program to take four strings as input and print the string having third highest number of words."
   ]
  },
  {
   "cell_type": "code",
   "execution_count": null,
   "id": "19Wx8OZqk3UQ",
   "metadata": {
    "id": "19Wx8OZqk3UQ"
   },
   "outputs": [],
   "source": [
    "def count_words1(string):\n",
    "    return len(string.split())\n",
    "\n",
    "\n",
    "def second_largest_words1(str1 , str2 , str3,str4):\n",
    "    strings = [str1 , str2 , str3,str4]\n",
    "    words_counts = {s :count_words(s) for s in strings}\n",
    "    sorted_strings = sorted(words_counts.items() , key = lambda x:x[0] , reverse = True)\n",
    "    return sorted_strings[1][0]\n",
    "\n",
    "\n",
    "\n",
    "\n",
    "str1=input(\"Enter the string1 ->\")\n",
    "str2=input(\"Enter the string2 ->\")\n",
    "str3=input(\"Enter the string3 ->\")\n",
    "\n",
    "\n",
    "\n",
    "\n",
    "result = second_largest_words(str1 , str2 , str3)\n",
    "print(\"String with seconds largest nos of words\" , result)"
   ]
  }
 ],
 "metadata": {
  "colab": {
   "provenance": []
  },
  "kernelspec": {
   "display_name": "Python 3 (ipykernel)",
   "language": "python",
   "name": "python3"
  },
  "language_info": {
   "codemirror_mode": {
    "name": "ipython",
    "version": 3
   },
   "file_extension": ".py",
   "mimetype": "text/x-python",
   "name": "python",
   "nbconvert_exporter": "python",
   "pygments_lexer": "ipython3",
   "version": "3.10.9"
  }
 },
 "nbformat": 4,
 "nbformat_minor": 5
}
