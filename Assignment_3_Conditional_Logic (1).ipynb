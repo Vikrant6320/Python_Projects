{
 "cells": [
  {
   "cell_type": "markdown",
   "id": "c6ec5c42",
   "metadata": {
    "id": "c6ec5c42"
   },
   "source": [
    "# Assessment - 3 Gradable\n",
    "\n",
    "- Each question carries 3 or 4 marks\n",
    "- Marks will be assigned in terms of:\n",
    "\n",
    "    **1. Expected output**\n",
    "\n",
    "    **2. Quality and Explainability of code**\n",
    "\n",
    "    ***Go back through the script and type a comment above each line explaining in English what it does.***\n",
    "\n",
    "    **3. Copied code, if found, will result in 0 marks for that question. To avoid this make as much comments in the code to explain the approach**"
   ]
  },
  {
   "cell_type": "markdown",
   "id": "8698053e",
   "metadata": {
    "id": "8698053e"
   },
   "source": [
    "### 1.\n",
    "\n",
    "Go through the string below and if the length of a word is even print \"even!\"\n",
    "\n",
    "string = 'I know how to print every word in this sentence that has an even number of letters'"
   ]
  },
  {
   "cell_type": "code",
   "execution_count": 5,
   "id": "4dec28a9",
   "metadata": {
    "id": "4dec28a9"
   },
   "outputs": [
    {
     "name": "stdout",
     "output_type": "stream",
     "text": [
      "I know how to print every word in this sentence that has an even number of letters\n",
      "I --> Odd\n",
      "know --> Even\n",
      "how --> Odd\n",
      "to --> Even\n",
      "print --> Odd\n",
      "every --> Odd\n",
      "word --> Even\n",
      "in --> Even\n",
      "this --> Even\n",
      "sentence --> Even\n",
      "that --> Even\n",
      "has --> Odd\n",
      "an --> Even\n",
      "even --> Even\n",
      "number --> Even\n",
      "of --> Even\n",
      "letters --> Odd\n"
     ]
    }
   ],
   "source": [
    "String=\"I know how to print every word in this sentence that has an even number of letters\"\n",
    "print(String)\n",
    "\n",
    "words=String.split()   # fow every single word\n",
    "\n",
    "for i in words:\n",
    "    if len(i)%2==0:\n",
    "        print(i,\"--> Even\")\n",
    "    else:\n",
    "        print(i,\"--> Odd\")"
   ]
  },
  {
   "cell_type": "markdown",
   "id": "8569bc4e",
   "metadata": {
    "id": "8569bc4e"
   },
   "source": [
    "### 2.\n",
    "\n",
    "Create a function ``lets_find_88`` Given a list of ints, return True if the array contains a 8 next to a 8 somewhere.\n",
    "- lets_find_88([1, 8, 8]) → True\n",
    "- lets_find_88([1, 8, 1, 8]) → False\n",
    "- lets_find_88([8, 1, 8]) → False"
   ]
  },
  {
   "cell_type": "code",
   "execution_count": 9,
   "id": "9ccfca15",
   "metadata": {
    "id": "9ccfca15"
   },
   "outputs": [
    {
     "name": "stdout",
     "output_type": "stream",
     "text": [
      "True\n",
      "False\n",
      "False\n"
     ]
    }
   ],
   "source": [
    "def lets_find_88(n): # use def function\n",
    "    for i in range(len(n)-1):\n",
    "        if n[i]==8 and n[i+1]==8:\n",
    "        \n",
    "            return True\n",
    "       \n",
    "    return False\n",
    "        \n",
    "a=lets_find_88([1,8,8])  # fill up values in def function\n",
    "print(a)\n",
    "b=lets_find_88([1, 8, 1, 8])\n",
    "print(b)\n",
    "c=lets_find_88([8, 1, 8])\n",
    "print(c)\n",
    "    "
   ]
  },
  {
   "cell_type": "markdown",
   "id": "40759409",
   "metadata": {
    "id": "40759409"
   },
   "source": [
    "### 3.\n",
    "\n",
    " Calculate and display the sum of all the numbers divisible by 7 between 18 and 534.\n",
    "\n",
    " Hint: One way to do this is to loop over a 'range' using 'for' loop and use an 'if' statement inside it."
   ]
  },
  {
   "cell_type": "code",
   "execution_count": 23,
   "id": "f7409469",
   "metadata": {
    "id": "f7409469"
   },
   "outputs": [
    {
     "name": "stdout",
     "output_type": "stream",
     "text": [
      "The total sum of all numbers divisible by 7 in between 18 and 534 --> 20461\n"
     ]
    }
   ],
   "source": [
    "n=0\n",
    "\n",
    "for i in range(18,534):  # for loop for between statement with range\n",
    "    if i%7==0:\n",
    "        n=n+i\n",
    "        \n",
    "print(\"The total sum of all numbers divisible by 7 in between 18 and 534 -->\",n)"
   ]
  },
  {
   "cell_type": "markdown",
   "id": "0dd3847a",
   "metadata": {
    "id": "0dd3847a"
   },
   "source": [
    "### 4.\n",
    "\n",
    "Create a list containing the following 3 elements:\n",
    "\n",
    "- Subject person had taken\n",
    "- Marks Achieved\n",
    "- a boolean value showing previous programming experience\n",
    "\n",
    "and Complete the following 'print' and 'if' statements by accessing the appropriate elements from my_list."
   ]
  },
  {
   "cell_type": "code",
   "execution_count": 24,
   "id": "5c87efcb",
   "metadata": {
    "id": "5c87efcb"
   },
   "outputs": [
    {
     "name": "stdout",
     "output_type": "stream",
     "text": [
      "Subject person had taken\n",
      "The total Marks he achieved --> Marks achieved\n",
      "The programming experience --> A boolean value showing previous programming exprience\n"
     ]
    }
   ],
   "source": [
    "xlist=['Subject person had taken','Marks achieved','A boolean value showing previous programming exprience']\n",
    "\n",
    "subject=xlist[0]\n",
    "marks=xlist[1]\n",
    "programme=xlist[2]\n",
    "\n",
    "if subject:\n",
    "    print(\"Subject person had taken\")\n",
    "else:\n",
    "    print(\"Subject person had not taken\")\n",
    "    \n",
    "print(\"The total Marks he achieved -->\",marks)\n",
    "print(\"The programming experience -->\",programme)"
   ]
  },
  {
   "cell_type": "markdown",
   "id": "a54510f0",
   "metadata": {
    "id": "a54510f0"
   },
   "source": [
    "### 5.\n",
    "\n",
    "Write a function to return True if the first and last number of a given list is same. If numbers are different then return False.\n",
    "\n",
    "- [11, 13, 17, 19, 11] --> True\n",
    "- [24, 36, 12, 31, 42] --> False"
   ]
  },
  {
   "cell_type": "code",
   "execution_count": 26,
   "id": "5d53ba1f",
   "metadata": {
    "id": "5d53ba1f"
   },
   "outputs": [
    {
     "data": {
      "text/plain": [
       "False"
      ]
     },
     "execution_count": 26,
     "metadata": {},
     "output_type": "execute_result"
    }
   ],
   "source": [
    "def func(num):\n",
    "    if num[0]==num[-1]:\n",
    "        return True\n",
    "    else:\n",
    "        return False\n",
    "    \n",
    "func([11,13,17,19,11])\n",
    "func([24,36,12,31,42])"
   ]
  },
  {
   "cell_type": "code",
   "execution_count": null,
   "id": "7af7fd6b",
   "metadata": {},
   "outputs": [],
   "source": []
  }
 ],
 "metadata": {
  "colab": {
   "provenance": []
  },
  "kernelspec": {
   "display_name": "Python 3 (ipykernel)",
   "language": "python",
   "name": "python3"
  },
  "language_info": {
   "codemirror_mode": {
    "name": "ipython",
    "version": 3
   },
   "file_extension": ".py",
   "mimetype": "text/x-python",
   "name": "python",
   "nbconvert_exporter": "python",
   "pygments_lexer": "ipython3",
   "version": "3.10.9"
  }
 },
 "nbformat": 4,
 "nbformat_minor": 5
}
